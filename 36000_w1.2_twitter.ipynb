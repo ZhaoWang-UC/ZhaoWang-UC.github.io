{
 "cells": [
  {
   "cell_type": "markdown",
   "id": "7689d272",
   "metadata": {},
   "source": [
    "Ed discussion:\n",
    "- Join GitHub classroom\n",
    "- Python learning resources"
   ]
  },
  {
   "cell_type": "markdown",
   "id": "c6f8be18",
   "metadata": {},
   "source": [
    "### Twitter data collection\n",
    "- **Reference**: https://github.com/mikhailklassen/Mining-the-Social-Web-3rd-Edition\n",
    "\n",
    "**Twitter**: platform for broadcasting messages. <br>\n",
    "- [Justin Bieber](https://twitter.com/justinbieber) <br>\n",
    "- [Steven Spielberg](https://twitter.com/sspielberg93?lang=en) <br>\n",
    "- [UChicago](https://twitter.com/UChicago?ref_src=twsrc%5Egoogle%7Ctwcamp%5Eserp%7Ctwgr%5Eauthor) <br>"
   ]
  },
  {
   "cell_type": "markdown",
   "id": "044bba8a",
   "metadata": {},
   "source": [
    "### Twitter Jargon\n",
    "- tweet: a message, max 280 characters <br>\n",
    "- timeline: a list of tweets from a user <br>\n",
    "- follower: if user A follows B, A will receive tweets from B's timeline <br>\n",
    "- friend: if A follows B, then B is a friend of A.<br>\n",
    "> **Asymmetry**: If A follows B, but B does not follow A, then A is not a friend of B.<br>"
   ]
  },
  {
   "cell_type": "markdown",
   "id": "4f7ba2aa",
   "metadata": {},
   "source": [
    "### Twitter API\n",
    "- Provides programmatic access to public Twitter data\n",
    "> direct messages not included <br>\n",
    "> A user can set their timeline to be private, but this is rare <br>\n",
    "- documentation: https://developer.twitter.com/en/docs/platform-overview\n",
    "\n",
    "- Two sub-APIs:\n",
    "> Search API: submit HTTP requests to access specific information (tweets, friends, ...) <br>\n",
    "> Streaming API: open a continuous connection to Twitter to receive real-time data. <br>\n",
    "> These APIs are simply HTTP GET requests:\n",
    "https://api.twitter.com/1.1/search/tweets.json?q=chicago"
   ]
  },
  {
   "cell_type": "markdown",
   "id": "c92c93e0",
   "metadata": {},
   "source": [
    "### Authentication\n",
    "- Twitter uses [OAuth](https://developer.twitter.com/en/docs/authentication/overview) to enable secure requests to the API.\n",
    "- 1: creat an ordinary Twitter account to login\n",
    "- 2: create an app and get tokens at: https://developer.twitter.com/en/apps\n",
    "> These tokens will be sent with each API request <br>"
   ]
  },
  {
   "cell_type": "markdown",
   "id": "3e484667",
   "metadata": {},
   "source": [
    "<img src=\"tw_auth.jpg\" width=\"800\" />"
   ]
  },
  {
   "cell_type": "markdown",
   "id": "c915a0e1",
   "metadata": {},
   "source": [
    "![tw_auth2.jpg](tw_auth2.jpg)"
   ]
  },
  {
   "cell_type": "markdown",
   "id": "f2e88d51",
   "metadata": {},
   "source": [
    "### Tools and libraries\n",
    "- To make data collection on Twitter more easy\n",
    "- https://developer.twitter.com/en/docs/twitter-api/tools-and-libraries/v2"
   ]
  },
  {
   "cell_type": "markdown",
   "id": "0b3081e8",
   "metadata": {},
   "source": [
    "### Authorizing an application to access Twitter account data\n",
    "- using a Python package [twitter](https://github.com/python-twitter-tools/twitter) to make API calls\n",
    "> `pip install twitter`\n",
    "\n",
    "- List of all endpoints:\n",
    "> https://developer.twitter.com/en/docs/api-reference-index"
   ]
  },
  {
   "cell_type": "code",
   "execution_count": null,
   "id": "4e3bddcb",
   "metadata": {},
   "outputs": [],
   "source": [
    "#mother's day"
   ]
  },
  {
   "cell_type": "code",
   "execution_count": 1,
   "id": "be951899",
   "metadata": {},
   "outputs": [
    {
     "name": "stdout",
     "output_type": "stream",
     "text": [
      "Established Twitter connection.\n"
     ]
    }
   ],
   "source": [
    "import twitter\n",
    "import configparser\n",
    "\n",
    "config = configparser.ConfigParser()\n",
    "config.read('twitter.cfg')\n",
    "my_auth = twitter.oauth.OAuth(\n",
    "                    config.get('twitter', 'access_token'),\n",
    "                    config.get('twitter', 'access_token_secret'),\n",
    "                    config.get('twitter', 'consumer_key'),\n",
    "                    config.get('twitter', 'consumer_secret'))\n",
    "\n",
    "twitter_api = twitter.Twitter(auth=my_auth)\n",
    "\n",
    "if(twitter_api):\n",
    "    print('Established Twitter connection.')"
   ]
  },
  {
   "cell_type": "code",
   "execution_count": 2,
   "id": "133ad696",
   "metadata": {
    "collapsed": true
   },
   "outputs": [
    {
     "data": {
      "text/plain": [
       "['TWITTER_UNAVAILABLE_WAIT',\n",
       " '__call__',\n",
       " '__class__',\n",
       " '__delattr__',\n",
       " '__dict__',\n",
       " '__dir__',\n",
       " '__doc__',\n",
       " '__eq__',\n",
       " '__format__',\n",
       " '__ge__',\n",
       " '__getattr__',\n",
       " '__getattribute__',\n",
       " '__gt__',\n",
       " '__hash__',\n",
       " '__init__',\n",
       " '__init_subclass__',\n",
       " '__le__',\n",
       " '__lt__',\n",
       " '__module__',\n",
       " '__ne__',\n",
       " '__new__',\n",
       " '__reduce__',\n",
       " '__reduce_ex__',\n",
       " '__repr__',\n",
       " '__setattr__',\n",
       " '__sizeof__',\n",
       " '__str__',\n",
       " '__subclasshook__',\n",
       " '__weakref__',\n",
       " '_handle_response',\n",
       " '_handle_response_with_retry',\n",
       " 'auth',\n",
       " 'callable_cls',\n",
       " 'domain',\n",
       " 'format',\n",
       " 'gzip',\n",
       " 'retry',\n",
       " 'secure',\n",
       " 'timeout',\n",
       " 'uri',\n",
       " 'uriparts',\n",
       " 'verify_context']"
      ]
     },
     "execution_count": 2,
     "metadata": {},
     "output_type": "execute_result"
    }
   ],
   "source": [
    "# What can we do with this twitter object?\n",
    "# built-in method `dir` tells us a list of attributes for the object\n",
    "dir(twitter_api)"
   ]
  },
  {
   "cell_type": "code",
   "execution_count": 3,
   "id": "8cd190ed",
   "metadata": {
    "collapsed": true
   },
   "outputs": [
    {
     "name": "stdout",
     "output_type": "stream",
     "text": [
      "Help on Twitter in module twitter.api object:\n",
      "\n",
      "class Twitter(TwitterCall)\n",
      " |  Twitter(format='json', domain='api.twitter.com', secure=True, auth=None, api_version=<class 'twitter.api._DEFAULT'>, retry=False, verify_context=True)\n",
      " |  \n",
      " |  The minimalist yet fully featured Twitter API class.\n",
      " |  \n",
      " |  Get RESTful data by accessing members of this class. The result\n",
      " |  is decoded python objects (lists and dicts).\n",
      " |  \n",
      " |  The Twitter API is documented at:\n",
      " |  \n",
      " |    https://dev.twitter.com/overview/documentation\n",
      " |  \n",
      " |  The list of most accessible functions is listed at:\n",
      " |  \n",
      " |    https://dev.twitter.com/rest/public\n",
      " |  \n",
      " |  \n",
      " |  Examples::\n",
      " |  \n",
      " |      from twitter import *\n",
      " |  \n",
      " |      t = Twitter(\n",
      " |          auth=OAuth(token, token_secret, consumer_key, consumer_secret))\n",
      " |  \n",
      " |      # Get your \"home\" timeline\n",
      " |      t.statuses.home_timeline()\n",
      " |  \n",
      " |      # Get a particular friend's timeline\n",
      " |      t.statuses.user_timeline(screen_name=\"billybob\")\n",
      " |  \n",
      " |      # to pass in GET/POST parameters, such as `count`\n",
      " |      t.statuses.home_timeline(count=5)\n",
      " |  \n",
      " |      # to pass in the GET/POST parameter `id` you need to use `_id`\n",
      " |      t.statuses.oembed(_id=1234567890)\n",
      " |  \n",
      " |      # Update your status\n",
      " |      t.statuses.update(\n",
      " |          status=\"Using @sixohsix's sweet Python Twitter Tools.\")\n",
      " |  \n",
      " |      # Send a direct message\n",
      " |      t.direct_messages.new(\n",
      " |          user=\"billybob\",\n",
      " |          text=\"I think yer swell!\")\n",
      " |  \n",
      " |      # Get the members of tamtar's list \"Things That Are Rad\"\n",
      " |      t.lists.members(owner_screen_name=\"tamtar\", slug=\"things-that-are-rad\")\n",
      " |  \n",
      " |      # An *optional* `_timeout` parameter can also be used for API\n",
      " |      # calls which take much more time than normal or twitter stops\n",
      " |      # responding for some reason:\n",
      " |      t.users.lookup(\n",
      " |          screen_name=','.join(A_LIST_OF_100_SCREEN_NAMES),             _timeout=1)\n",
      " |  \n",
      " |      # Overriding Method: GET/POST\n",
      " |      # you should not need to use this method as this library properly\n",
      " |      # detects whether GET or POST should be used, Nevertheless\n",
      " |      # to force a particular method, use `_method`\n",
      " |      t.statuses.oembed(_id=1234567890, _method='GET')\n",
      " |  \n",
      " |      # Send images along with your tweets:\n",
      " |      # - first just read images from the web or from files the regular way:\n",
      " |      with open(\"example.png\", \"rb\") as imagefile:\n",
      " |          imagedata = imagefile.read()\n",
      " |      # - then upload medias one by one on Twitter's dedicated server\n",
      " |      #   and collect each one's id:\n",
      " |      t_upload = Twitter(domain='upload.twitter.com',\n",
      " |          auth=OAuth(token, token_secret, consumer_key, consumer_secret))\n",
      " |      id_img1 = t_upload.media.upload(media=imagedata)[\"media_id_string\"]\n",
      " |      id_img2 = t_upload.media.upload(media=imagedata)[\"media_id_string\"]\n",
      " |  \n",
      " |      # - finally send your tweet with the list of media ids:\n",
      " |      t.statuses.update(status=\"PTT ★\", media_ids=\",\".join([id_img1, id_img2]))\n",
      " |  \n",
      " |      # Or send a tweet with an image (or set a logo/banner similarly)\n",
      " |      # using the old deprecated method that will probably disappear some day\n",
      " |      params = {\"media[]\": imagedata, \"status\": \"PTT ★\"}\n",
      " |      # Or for an image encoded as base64:\n",
      " |      params = {\"media[]\": base64_image, \"status\": \"PTT ★\", \"_base64\": True}\n",
      " |      t.statuses.update_with_media(**params)\n",
      " |  \n",
      " |      # Attach text metadata to medias sent, using the upload.twitter.com route\n",
      " |      # using the _json workaround to send json arguments as POST body\n",
      " |      # (warning: to be done before attaching the media to a tweet)\n",
      " |      t_upload.media.metadata.create(_json={\n",
      " |        \"media_id\": id_img1,\n",
      " |        \"alt_text\": { \"text\": \"metadata generated via PTT!\" }\n",
      " |      })\n",
      " |      # or with the shortcut arguments (\"alt_text\" and \"text\" work):\n",
      " |      t_upload.media.metadata.create(media_id=id_img1, text=\"metadata generated via PTT!\")\n",
      " |  \n",
      " |  Searching Twitter::\n",
      " |  \n",
      " |      # Search for the latest tweets about #pycon\n",
      " |      t.search.tweets(q=\"#pycon\")\n",
      " |  \n",
      " |  \n",
      " |  Using the data returned\n",
      " |  -----------------------\n",
      " |  \n",
      " |  Twitter API calls return decoded JSON. This is converted into\n",
      " |  a bunch of Python lists, dicts, ints, and strings. For example::\n",
      " |  \n",
      " |      x = twitter.statuses.home_timeline()\n",
      " |  \n",
      " |      # The first 'tweet' in the timeline\n",
      " |      x[0]\n",
      " |  \n",
      " |      # The screen name of the user who wrote the first 'tweet'\n",
      " |      x[0]['user']['screen_name']\n",
      " |  \n",
      " |  \n",
      " |  Getting raw XML data\n",
      " |  --------------------\n",
      " |  \n",
      " |  If you prefer to get your Twitter data in XML format, pass\n",
      " |  format=\"xml\" to the Twitter object when you instantiate it::\n",
      " |  \n",
      " |      twitter = Twitter(format=\"xml\")\n",
      " |  \n",
      " |  The output will not be parsed in any way. It will be a raw string\n",
      " |  of XML.\n",
      " |  \n",
      " |  Method resolution order:\n",
      " |      Twitter\n",
      " |      TwitterCall\n",
      " |      builtins.object\n",
      " |  \n",
      " |  Methods defined here:\n",
      " |  \n",
      " |  __init__(self, format='json', domain='api.twitter.com', secure=True, auth=None, api_version=<class 'twitter.api._DEFAULT'>, retry=False, verify_context=True)\n",
      " |      Create a new twitter API connector.\n",
      " |      \n",
      " |      Pass an `auth` parameter to use the credentials of a specific\n",
      " |      user. Generally you'll want to pass an `OAuth`\n",
      " |      instance::\n",
      " |      \n",
      " |          twitter = Twitter(auth=OAuth(\n",
      " |                  token, token_secret, consumer_key, consumer_secret))\n",
      " |      \n",
      " |      \n",
      " |      `domain` lets you change the domain you are connecting. By\n",
      " |      default it's `api.twitter.com`.\n",
      " |      \n",
      " |      If `secure` is False you will connect with HTTP instead of\n",
      " |      HTTPS.\n",
      " |      \n",
      " |      `api_version` is used to set the base uri. By default it's\n",
      " |      '1.1'.\n",
      " |      \n",
      " |      If `retry` is True, API rate limits will automatically be\n",
      " |      handled by waiting until the next reset, as indicated by\n",
      " |      the X-Rate-Limit-Reset HTTP header. If retry is an integer,\n",
      " |      it defines the number of retries attempted.\n",
      " |  \n",
      " |  ----------------------------------------------------------------------\n",
      " |  Methods inherited from TwitterCall:\n",
      " |  \n",
      " |  __call__(self, **kwargs)\n",
      " |      Call self as a function.\n",
      " |  \n",
      " |  __getattr__(self, k)\n",
      " |  \n",
      " |  ----------------------------------------------------------------------\n",
      " |  Data descriptors inherited from TwitterCall:\n",
      " |  \n",
      " |  __dict__\n",
      " |      dictionary for instance variables (if defined)\n",
      " |  \n",
      " |  __weakref__\n",
      " |      list of weak references to the object (if defined)\n",
      " |  \n",
      " |  ----------------------------------------------------------------------\n",
      " |  Data and other attributes inherited from TwitterCall:\n",
      " |  \n",
      " |  TWITTER_UNAVAILABLE_WAIT = 30\n",
      "\n"
     ]
    }
   ],
   "source": [
    "# built-in method `help` returns\n",
    "# Python documentation of the object, method, attributes, etc.\n",
    "\n",
    "help(twitter_api)"
   ]
  },
  {
   "cell_type": "markdown",
   "id": "950c7f49",
   "metadata": {},
   "source": [
    "### Retrieving trends\n",
    "- Returns the top 50 trending topics for a specific id, if trending information is available for it\n",
    "- endpoint: \n",
    "> https://developer.twitter.com/en/docs/twitter-api/v1/trends/trends-for-location/api-reference/get-trends-place\n",
    "- Where On Earch identifier (WOE): https://developer.twitter.com/en/docs/twitter-api/v1/trends/trends-for-location/api-reference/get-trends-place"
   ]
  },
  {
   "cell_type": "code",
   "execution_count": 4,
   "id": "00c30856",
   "metadata": {},
   "outputs": [],
   "source": [
    "WORLD_WOE_ID = 1\n",
    "US_WOE_ID = 23424977\n",
    "\n",
    "# Prefix ID with the underscore for query string parameterization.\n",
    "# Without the underscore, the twitter package appends the ID value\n",
    "# to the URL itself as a special case keyword argument.\n",
    "\n",
    "world_trends = twitter_api.trends.place(_id=WORLD_WOE_ID)\n",
    "us_trends = twitter_api.trends.place(_id=US_WOE_ID)"
   ]
  },
  {
   "cell_type": "code",
   "execution_count": 5,
   "id": "367eee69",
   "metadata": {
    "collapsed": true
   },
   "outputs": [
    {
     "name": "stdout",
     "output_type": "stream",
     "text": [
      "[{'trends': [{'name': 'Bruce Willis', 'url': 'http://twitter.com/search?q=%22Bruce+Willis%22', 'promoted_content': None, 'query': '%22Bruce+Willis%22', 'tweet_volume': 102264}, {'name': '#AsItWas', 'url': 'http://twitter.com/search?q=%23AsItWas', 'promoted_content': None, 'query': '%23AsItWas', 'tweet_volume': 20456}, {'name': 'Tom Parker', 'url': 'http://twitter.com/search?q=%22Tom+Parker%22', 'promoted_content': None, 'query': '%22Tom+Parker%22', 'tweet_volume': 59115}, {'name': '#UltimaFermata', 'url': 'http://twitter.com/search?q=%23UltimaFermata', 'promoted_content': None, 'query': '%23UltimaFermata', 'tweet_volume': None}, {'name': 'Camp Nou', 'url': 'http://twitter.com/search?q=%22Camp+Nou%22', 'promoted_content': None, 'query': '%22Camp+Nou%22', 'tweet_volume': 74152}, {'name': '#MoonKnight', 'url': 'http://twitter.com/search?q=%23MoonKnight', 'promoted_content': None, 'query': '%23MoonKnight', 'tweet_volume': 140195}, {'name': '#chilhavisto', 'url': 'http://twitter.com/search?q=%23chilhavisto', 'promoted_content': None, 'query': '%23chilhavisto', 'tweet_volume': None}, {'name': '#PMSHappyBirthdayTone', 'url': 'http://twitter.com/search?q=%23PMSHappyBirthdayTone', 'promoted_content': None, 'query': '%23PMSHappyBirthdayTone', 'tweet_volume': None}, {'name': 'The Wanted', 'url': 'http://twitter.com/search?q=%22The+Wanted%22', 'promoted_content': None, 'query': '%22The+Wanted%22', 'tweet_volume': 225516}, {'name': 'Blac Chyna', 'url': 'http://twitter.com/search?q=%22Blac+Chyna%22', 'promoted_content': None, 'query': '%22Blac+Chyna%22', 'tweet_volume': 10916}, {'name': 'Tyga', 'url': 'http://twitter.com/search?q=Tyga', 'promoted_content': None, 'query': 'Tyga', 'tweet_volume': 11811}, {'name': 'Die Hard', 'url': 'http://twitter.com/search?q=%22Die+Hard%22', 'promoted_content': None, 'query': '%22Die+Hard%22', 'tweet_volume': 18102}, {'name': 'WHEN YOURE GONE TONIGHT', 'url': 'http://twitter.com/search?q=%22WHEN+YOURE+GONE+TONIGHT%22', 'promoted_content': None, 'query': '%22WHEN+YOURE+GONE+TONIGHT%22', 'tweet_volume': 13934}, {'name': 'Moonlighting', 'url': 'http://twitter.com/search?q=Moonlighting', 'promoted_content': None, 'query': 'Moonlighting', 'tweet_volume': None}, {'name': 'Taha Akgül', 'url': 'http://twitter.com/search?q=%22Taha+Akg%C3%BCl%22', 'promoted_content': None, 'query': '%22Taha+Akg%C3%BCl%22', 'tweet_volume': None}, {'name': 'Hunter Biden', 'url': 'http://twitter.com/search?q=%22Hunter+Biden%22', 'promoted_content': None, 'query': '%22Hunter+Biden%22', 'tweet_volume': 334617}, {'name': 'Oscar Isaac', 'url': 'http://twitter.com/search?q=%22Oscar+Isaac%22', 'promoted_content': None, 'query': '%22Oscar+Isaac%22', 'tweet_volume': 25366}, {'name': 'Géraldine', 'url': 'http://twitter.com/search?q=G%C3%A9raldine', 'promoted_content': None, 'query': 'G%C3%A9raldine', 'tweet_volume': None}, {'name': 'McCarthy', 'url': 'http://twitter.com/search?q=McCarthy', 'promoted_content': None, 'query': 'McCarthy', 'tweet_volume': 42483}, {'name': 'Avrupa Güreş Şampiyonası', 'url': 'http://twitter.com/search?q=%22Avrupa+G%C3%BCre%C5%9F+%C5%9Eampiyonas%C4%B1%22', 'promoted_content': None, 'query': '%22Avrupa+G%C3%BCre%C5%9F+%C5%9Eampiyonas%C4%B1%22', 'tweet_volume': None}, {'name': 'Aphasia', 'url': 'http://twitter.com/search?q=Aphasia', 'promoted_content': None, 'query': 'Aphasia', 'tweet_volume': 43571}, {'name': 'a culpa é das estrelas', 'url': 'http://twitter.com/search?q=%22a+culpa+%C3%A9+das+estrelas%22', 'promoted_content': None, 'query': '%22a+culpa+%C3%A9+das+estrelas%22', 'tweet_volume': None}, {'name': 'Booming', 'url': 'http://twitter.com/search?q=Booming', 'promoted_content': None, 'query': 'Booming', 'tweet_volume': 28985}, {'name': 'Cawthorn', 'url': 'http://twitter.com/search?q=Cawthorn', 'promoted_content': None, 'query': 'Cawthorn', 'tweet_volume': 85496}, {'name': 'iPhone 6', 'url': 'http://twitter.com/search?q=%22iPhone+6%22', 'promoted_content': None, 'query': '%22iPhone+6%22', 'tweet_volume': 11216}, {'name': 'Alexia', 'url': 'http://twitter.com/search?q=Alexia', 'promoted_content': None, 'query': 'Alexia', 'tweet_volume': 22447}, {'name': 'Avrupa Şampiyonu', 'url': 'http://twitter.com/search?q=%22Avrupa+%C5%9Eampiyonu%22', 'promoted_content': None, 'query': '%22Avrupa+%C5%9Eampiyonu%22', 'tweet_volume': None}, {'name': 'Hudson Hawk', 'url': 'http://twitter.com/search?q=%22Hudson+Hawk%22', 'promoted_content': None, 'query': '%22Hudson+Hawk%22', 'tweet_volume': None}, {'name': '失語症と診断', 'url': 'http://twitter.com/search?q=%E5%A4%B1%E8%AA%9E%E7%97%87%E3%81%A8%E8%A8%BA%E6%96%AD', 'promoted_content': None, 'query': '%E5%A4%B1%E8%AA%9E%E7%97%87%E3%81%A8%E8%A8%BA%E6%96%AD', 'tweet_volume': None}, {'name': 'WE LOVE YOU JIMIN', 'url': 'http://twitter.com/search?q=%22WE+LOVE+YOU+JIMIN%22', 'promoted_content': None, 'query': '%22WE+LOVE+YOU+JIMIN%22', 'tweet_volume': None}, {'name': 'Jabulani', 'url': 'http://twitter.com/search?q=Jabulani', 'promoted_content': None, 'query': 'Jabulani', 'tweet_volume': None}, {'name': '第69回', 'url': 'http://twitter.com/search?q=%E7%AC%AC69%E5%9B%9E', 'promoted_content': None, 'query': '%E7%AC%AC69%E5%9B%9E', 'tweet_volume': None}, {'name': 'ブルース・ウィリスさん', 'url': 'http://twitter.com/search?q=%E3%83%96%E3%83%AB%E3%83%BC%E3%82%B9%E3%83%BB%E3%82%A6%E3%82%A3%E3%83%AA%E3%82%B9%E3%81%95%E3%82%93', 'promoted_content': None, 'query': '%E3%83%96%E3%83%AB%E3%83%BC%E3%82%B9%E3%83%BB%E3%82%A6%E3%82%A3%E3%83%AA%E3%82%B9%E3%81%95%E3%82%93', 'tweet_volume': None}, {'name': 'Casagrande', 'url': 'http://twitter.com/search?q=Casagrande', 'promoted_content': None, 'query': 'Casagrande', 'tweet_volume': None}, {'name': 'John McClane', 'url': 'http://twitter.com/search?q=%22John+McClane%22', 'promoted_content': None, 'query': '%22John+McClane%22', 'tweet_volume': None}, {'name': '12 Monkeys', 'url': 'http://twitter.com/search?q=%2212+Monkeys%22', 'promoted_content': None, 'query': '%2212+Monkeys%22', 'tweet_volume': None}, {'name': '引退発表', 'url': 'http://twitter.com/search?q=%E5%BC%95%E9%80%80%E7%99%BA%E8%A1%A8', 'promoted_content': None, 'query': '%E5%BC%95%E9%80%80%E7%99%BA%E8%A1%A8', 'tweet_volume': None}, {'name': 'Susan Kihika', 'url': 'http://twitter.com/search?q=%22Susan+Kihika%22', 'promoted_content': None, 'query': '%22Susan+Kihika%22', 'tweet_volume': None}, {'name': 'Feyzullah Aktürk', 'url': 'http://twitter.com/search?q=%22Feyzullah+Akt%C3%BCrk%22', 'promoted_content': None, 'query': '%22Feyzullah+Akt%C3%BCrk%22', 'tweet_volume': None}, {'name': 'UERJ', 'url': 'http://twitter.com/search?q=UERJ', 'promoted_content': None, 'query': 'UERJ', 'tweet_volume': None}, {'name': 'Pulp Fiction', 'url': 'http://twitter.com/search?q=%22Pulp+Fiction%22', 'promoted_content': None, 'query': '%22Pulp+Fiction%22', 'tweet_volume': None}, {'name': 'Lira', 'url': 'http://twitter.com/search?q=Lira', 'promoted_content': None, 'query': 'Lira', 'tweet_volume': 67993}, {'name': 'Covarde', 'url': 'http://twitter.com/search?q=Covarde', 'promoted_content': None, 'query': 'Covarde', 'tweet_volume': 19708}, {'name': 'Ivanka', 'url': 'http://twitter.com/search?q=Ivanka', 'promoted_content': None, 'query': 'Ivanka', 'tweet_volume': 51564}, {'name': 'Wordle 285 X', 'url': 'http://twitter.com/search?q=%22Wordle+285+X%22', 'promoted_content': None, 'query': '%22Wordle+285+X%22', 'tweet_volume': None}, {'name': 'Exaggerated', 'url': 'http://twitter.com/search?q=Exaggerated', 'promoted_content': None, 'query': 'Exaggerated', 'tweet_volume': None}, {'name': '#TopChef', 'url': 'http://twitter.com/search?q=%23TopChef', 'promoted_content': None, 'query': '%23TopChef', 'tweet_volume': None}, {'name': '#Πατρα', 'url': 'http://twitter.com/search?q=%23%CE%A0%CE%B1%CF%84%CF%81%CE%B1', 'promoted_content': None, 'query': '%23%CE%A0%CE%B1%CF%84%CF%81%CE%B1', 'tweet_volume': 52292}, {'name': '#VolevoFareLaRockstar2', 'url': 'http://twitter.com/search?q=%23VolevoFareLaRockstar2', 'promoted_content': None, 'query': '%23VolevoFareLaRockstar2', 'tweet_volume': None}, {'name': '#JKLive', 'url': 'http://twitter.com/search?q=%23JKLive', 'promoted_content': None, 'query': '%23JKLive', 'tweet_volume': None}], 'as_of': '2022-03-30T21:02:49Z', 'created_at': '2022-03-28T13:40:42Z', 'locations': [{'name': 'Worldwide', 'woeid': 1}]}]\n"
     ]
    }
   ],
   "source": [
    "print(world_trends)"
   ]
  },
  {
   "cell_type": "code",
   "execution_count": 6,
   "id": "3002338f",
   "metadata": {},
   "outputs": [
    {
     "data": {
      "text/plain": [
       "dict"
      ]
     },
     "execution_count": 6,
     "metadata": {},
     "output_type": "execute_result"
    }
   ],
   "source": [
    "type(world_trends[0])"
   ]
  },
  {
   "cell_type": "code",
   "execution_count": 7,
   "id": "7345ee9b",
   "metadata": {},
   "outputs": [
    {
     "data": {
      "text/plain": [
       "dict_keys(['trends', 'as_of', 'created_at', 'locations'])"
      ]
     },
     "execution_count": 7,
     "metadata": {},
     "output_type": "execute_result"
    }
   ],
   "source": [
    "world_trends[0].keys()"
   ]
  },
  {
   "cell_type": "code",
   "execution_count": 8,
   "id": "7d6be9e7",
   "metadata": {
    "collapsed": true
   },
   "outputs": [
    {
     "data": {
      "text/plain": [
       "[{'name': 'Bruce Willis',\n",
       "  'url': 'http://twitter.com/search?q=%22Bruce+Willis%22',\n",
       "  'promoted_content': None,\n",
       "  'query': '%22Bruce+Willis%22',\n",
       "  'tweet_volume': 102264},\n",
       " {'name': '#AsItWas',\n",
       "  'url': 'http://twitter.com/search?q=%23AsItWas',\n",
       "  'promoted_content': None,\n",
       "  'query': '%23AsItWas',\n",
       "  'tweet_volume': 20456},\n",
       " {'name': 'Tom Parker',\n",
       "  'url': 'http://twitter.com/search?q=%22Tom+Parker%22',\n",
       "  'promoted_content': None,\n",
       "  'query': '%22Tom+Parker%22',\n",
       "  'tweet_volume': 59115},\n",
       " {'name': '#UltimaFermata',\n",
       "  'url': 'http://twitter.com/search?q=%23UltimaFermata',\n",
       "  'promoted_content': None,\n",
       "  'query': '%23UltimaFermata',\n",
       "  'tweet_volume': None},\n",
       " {'name': 'Camp Nou',\n",
       "  'url': 'http://twitter.com/search?q=%22Camp+Nou%22',\n",
       "  'promoted_content': None,\n",
       "  'query': '%22Camp+Nou%22',\n",
       "  'tweet_volume': 74152},\n",
       " {'name': '#MoonKnight',\n",
       "  'url': 'http://twitter.com/search?q=%23MoonKnight',\n",
       "  'promoted_content': None,\n",
       "  'query': '%23MoonKnight',\n",
       "  'tweet_volume': 140195},\n",
       " {'name': '#chilhavisto',\n",
       "  'url': 'http://twitter.com/search?q=%23chilhavisto',\n",
       "  'promoted_content': None,\n",
       "  'query': '%23chilhavisto',\n",
       "  'tweet_volume': None},\n",
       " {'name': '#PMSHappyBirthdayTone',\n",
       "  'url': 'http://twitter.com/search?q=%23PMSHappyBirthdayTone',\n",
       "  'promoted_content': None,\n",
       "  'query': '%23PMSHappyBirthdayTone',\n",
       "  'tweet_volume': None},\n",
       " {'name': 'The Wanted',\n",
       "  'url': 'http://twitter.com/search?q=%22The+Wanted%22',\n",
       "  'promoted_content': None,\n",
       "  'query': '%22The+Wanted%22',\n",
       "  'tweet_volume': 225516},\n",
       " {'name': 'Blac Chyna',\n",
       "  'url': 'http://twitter.com/search?q=%22Blac+Chyna%22',\n",
       "  'promoted_content': None,\n",
       "  'query': '%22Blac+Chyna%22',\n",
       "  'tweet_volume': 10916},\n",
       " {'name': 'Tyga',\n",
       "  'url': 'http://twitter.com/search?q=Tyga',\n",
       "  'promoted_content': None,\n",
       "  'query': 'Tyga',\n",
       "  'tweet_volume': 11811},\n",
       " {'name': 'Die Hard',\n",
       "  'url': 'http://twitter.com/search?q=%22Die+Hard%22',\n",
       "  'promoted_content': None,\n",
       "  'query': '%22Die+Hard%22',\n",
       "  'tweet_volume': 18102},\n",
       " {'name': 'WHEN YOURE GONE TONIGHT',\n",
       "  'url': 'http://twitter.com/search?q=%22WHEN+YOURE+GONE+TONIGHT%22',\n",
       "  'promoted_content': None,\n",
       "  'query': '%22WHEN+YOURE+GONE+TONIGHT%22',\n",
       "  'tweet_volume': 13934},\n",
       " {'name': 'Moonlighting',\n",
       "  'url': 'http://twitter.com/search?q=Moonlighting',\n",
       "  'promoted_content': None,\n",
       "  'query': 'Moonlighting',\n",
       "  'tweet_volume': None},\n",
       " {'name': 'Taha Akgül',\n",
       "  'url': 'http://twitter.com/search?q=%22Taha+Akg%C3%BCl%22',\n",
       "  'promoted_content': None,\n",
       "  'query': '%22Taha+Akg%C3%BCl%22',\n",
       "  'tweet_volume': None},\n",
       " {'name': 'Hunter Biden',\n",
       "  'url': 'http://twitter.com/search?q=%22Hunter+Biden%22',\n",
       "  'promoted_content': None,\n",
       "  'query': '%22Hunter+Biden%22',\n",
       "  'tweet_volume': 334617},\n",
       " {'name': 'Oscar Isaac',\n",
       "  'url': 'http://twitter.com/search?q=%22Oscar+Isaac%22',\n",
       "  'promoted_content': None,\n",
       "  'query': '%22Oscar+Isaac%22',\n",
       "  'tweet_volume': 25366},\n",
       " {'name': 'Géraldine',\n",
       "  'url': 'http://twitter.com/search?q=G%C3%A9raldine',\n",
       "  'promoted_content': None,\n",
       "  'query': 'G%C3%A9raldine',\n",
       "  'tweet_volume': None},\n",
       " {'name': 'McCarthy',\n",
       "  'url': 'http://twitter.com/search?q=McCarthy',\n",
       "  'promoted_content': None,\n",
       "  'query': 'McCarthy',\n",
       "  'tweet_volume': 42483},\n",
       " {'name': 'Avrupa Güreş Şampiyonası',\n",
       "  'url': 'http://twitter.com/search?q=%22Avrupa+G%C3%BCre%C5%9F+%C5%9Eampiyonas%C4%B1%22',\n",
       "  'promoted_content': None,\n",
       "  'query': '%22Avrupa+G%C3%BCre%C5%9F+%C5%9Eampiyonas%C4%B1%22',\n",
       "  'tweet_volume': None},\n",
       " {'name': 'Aphasia',\n",
       "  'url': 'http://twitter.com/search?q=Aphasia',\n",
       "  'promoted_content': None,\n",
       "  'query': 'Aphasia',\n",
       "  'tweet_volume': 43571},\n",
       " {'name': 'a culpa é das estrelas',\n",
       "  'url': 'http://twitter.com/search?q=%22a+culpa+%C3%A9+das+estrelas%22',\n",
       "  'promoted_content': None,\n",
       "  'query': '%22a+culpa+%C3%A9+das+estrelas%22',\n",
       "  'tweet_volume': None},\n",
       " {'name': 'Booming',\n",
       "  'url': 'http://twitter.com/search?q=Booming',\n",
       "  'promoted_content': None,\n",
       "  'query': 'Booming',\n",
       "  'tweet_volume': 28985},\n",
       " {'name': 'Cawthorn',\n",
       "  'url': 'http://twitter.com/search?q=Cawthorn',\n",
       "  'promoted_content': None,\n",
       "  'query': 'Cawthorn',\n",
       "  'tweet_volume': 85496},\n",
       " {'name': 'iPhone 6',\n",
       "  'url': 'http://twitter.com/search?q=%22iPhone+6%22',\n",
       "  'promoted_content': None,\n",
       "  'query': '%22iPhone+6%22',\n",
       "  'tweet_volume': 11216},\n",
       " {'name': 'Alexia',\n",
       "  'url': 'http://twitter.com/search?q=Alexia',\n",
       "  'promoted_content': None,\n",
       "  'query': 'Alexia',\n",
       "  'tweet_volume': 22447},\n",
       " {'name': 'Avrupa Şampiyonu',\n",
       "  'url': 'http://twitter.com/search?q=%22Avrupa+%C5%9Eampiyonu%22',\n",
       "  'promoted_content': None,\n",
       "  'query': '%22Avrupa+%C5%9Eampiyonu%22',\n",
       "  'tweet_volume': None},\n",
       " {'name': 'Hudson Hawk',\n",
       "  'url': 'http://twitter.com/search?q=%22Hudson+Hawk%22',\n",
       "  'promoted_content': None,\n",
       "  'query': '%22Hudson+Hawk%22',\n",
       "  'tweet_volume': None},\n",
       " {'name': '失語症と診断',\n",
       "  'url': 'http://twitter.com/search?q=%E5%A4%B1%E8%AA%9E%E7%97%87%E3%81%A8%E8%A8%BA%E6%96%AD',\n",
       "  'promoted_content': None,\n",
       "  'query': '%E5%A4%B1%E8%AA%9E%E7%97%87%E3%81%A8%E8%A8%BA%E6%96%AD',\n",
       "  'tweet_volume': None},\n",
       " {'name': 'WE LOVE YOU JIMIN',\n",
       "  'url': 'http://twitter.com/search?q=%22WE+LOVE+YOU+JIMIN%22',\n",
       "  'promoted_content': None,\n",
       "  'query': '%22WE+LOVE+YOU+JIMIN%22',\n",
       "  'tweet_volume': None},\n",
       " {'name': 'Jabulani',\n",
       "  'url': 'http://twitter.com/search?q=Jabulani',\n",
       "  'promoted_content': None,\n",
       "  'query': 'Jabulani',\n",
       "  'tweet_volume': None},\n",
       " {'name': '第69回',\n",
       "  'url': 'http://twitter.com/search?q=%E7%AC%AC69%E5%9B%9E',\n",
       "  'promoted_content': None,\n",
       "  'query': '%E7%AC%AC69%E5%9B%9E',\n",
       "  'tweet_volume': None},\n",
       " {'name': 'ブルース・ウィリスさん',\n",
       "  'url': 'http://twitter.com/search?q=%E3%83%96%E3%83%AB%E3%83%BC%E3%82%B9%E3%83%BB%E3%82%A6%E3%82%A3%E3%83%AA%E3%82%B9%E3%81%95%E3%82%93',\n",
       "  'promoted_content': None,\n",
       "  'query': '%E3%83%96%E3%83%AB%E3%83%BC%E3%82%B9%E3%83%BB%E3%82%A6%E3%82%A3%E3%83%AA%E3%82%B9%E3%81%95%E3%82%93',\n",
       "  'tweet_volume': None},\n",
       " {'name': 'Casagrande',\n",
       "  'url': 'http://twitter.com/search?q=Casagrande',\n",
       "  'promoted_content': None,\n",
       "  'query': 'Casagrande',\n",
       "  'tweet_volume': None},\n",
       " {'name': 'John McClane',\n",
       "  'url': 'http://twitter.com/search?q=%22John+McClane%22',\n",
       "  'promoted_content': None,\n",
       "  'query': '%22John+McClane%22',\n",
       "  'tweet_volume': None},\n",
       " {'name': '12 Monkeys',\n",
       "  'url': 'http://twitter.com/search?q=%2212+Monkeys%22',\n",
       "  'promoted_content': None,\n",
       "  'query': '%2212+Monkeys%22',\n",
       "  'tweet_volume': None},\n",
       " {'name': '引退発表',\n",
       "  'url': 'http://twitter.com/search?q=%E5%BC%95%E9%80%80%E7%99%BA%E8%A1%A8',\n",
       "  'promoted_content': None,\n",
       "  'query': '%E5%BC%95%E9%80%80%E7%99%BA%E8%A1%A8',\n",
       "  'tweet_volume': None},\n",
       " {'name': 'Susan Kihika',\n",
       "  'url': 'http://twitter.com/search?q=%22Susan+Kihika%22',\n",
       "  'promoted_content': None,\n",
       "  'query': '%22Susan+Kihika%22',\n",
       "  'tweet_volume': None},\n",
       " {'name': 'Feyzullah Aktürk',\n",
       "  'url': 'http://twitter.com/search?q=%22Feyzullah+Akt%C3%BCrk%22',\n",
       "  'promoted_content': None,\n",
       "  'query': '%22Feyzullah+Akt%C3%BCrk%22',\n",
       "  'tweet_volume': None},\n",
       " {'name': 'UERJ',\n",
       "  'url': 'http://twitter.com/search?q=UERJ',\n",
       "  'promoted_content': None,\n",
       "  'query': 'UERJ',\n",
       "  'tweet_volume': None},\n",
       " {'name': 'Pulp Fiction',\n",
       "  'url': 'http://twitter.com/search?q=%22Pulp+Fiction%22',\n",
       "  'promoted_content': None,\n",
       "  'query': '%22Pulp+Fiction%22',\n",
       "  'tweet_volume': None},\n",
       " {'name': 'Lira',\n",
       "  'url': 'http://twitter.com/search?q=Lira',\n",
       "  'promoted_content': None,\n",
       "  'query': 'Lira',\n",
       "  'tweet_volume': 67993},\n",
       " {'name': 'Covarde',\n",
       "  'url': 'http://twitter.com/search?q=Covarde',\n",
       "  'promoted_content': None,\n",
       "  'query': 'Covarde',\n",
       "  'tweet_volume': 19708},\n",
       " {'name': 'Ivanka',\n",
       "  'url': 'http://twitter.com/search?q=Ivanka',\n",
       "  'promoted_content': None,\n",
       "  'query': 'Ivanka',\n",
       "  'tweet_volume': 51564},\n",
       " {'name': 'Wordle 285 X',\n",
       "  'url': 'http://twitter.com/search?q=%22Wordle+285+X%22',\n",
       "  'promoted_content': None,\n",
       "  'query': '%22Wordle+285+X%22',\n",
       "  'tweet_volume': None},\n",
       " {'name': 'Exaggerated',\n",
       "  'url': 'http://twitter.com/search?q=Exaggerated',\n",
       "  'promoted_content': None,\n",
       "  'query': 'Exaggerated',\n",
       "  'tweet_volume': None},\n",
       " {'name': '#TopChef',\n",
       "  'url': 'http://twitter.com/search?q=%23TopChef',\n",
       "  'promoted_content': None,\n",
       "  'query': '%23TopChef',\n",
       "  'tweet_volume': None},\n",
       " {'name': '#Πατρα',\n",
       "  'url': 'http://twitter.com/search?q=%23%CE%A0%CE%B1%CF%84%CF%81%CE%B1',\n",
       "  'promoted_content': None,\n",
       "  'query': '%23%CE%A0%CE%B1%CF%84%CF%81%CE%B1',\n",
       "  'tweet_volume': 52292},\n",
       " {'name': '#VolevoFareLaRockstar2',\n",
       "  'url': 'http://twitter.com/search?q=%23VolevoFareLaRockstar2',\n",
       "  'promoted_content': None,\n",
       "  'query': '%23VolevoFareLaRockstar2',\n",
       "  'tweet_volume': None},\n",
       " {'name': '#JKLive',\n",
       "  'url': 'http://twitter.com/search?q=%23JKLive',\n",
       "  'promoted_content': None,\n",
       "  'query': '%23JKLive',\n",
       "  'tweet_volume': None}]"
      ]
     },
     "execution_count": 8,
     "metadata": {},
     "output_type": "execute_result"
    }
   ],
   "source": [
    "world_trends[0]['trends']"
   ]
  },
  {
   "cell_type": "code",
   "execution_count": 9,
   "id": "16c9ef6b",
   "metadata": {},
   "outputs": [
    {
     "data": {
      "text/plain": [
       "'2022-03-30T21:02:49Z'"
      ]
     },
     "execution_count": 9,
     "metadata": {},
     "output_type": "execute_result"
    }
   ],
   "source": [
    "world_trends[0]['as_of']"
   ]
  },
  {
   "cell_type": "code",
   "execution_count": 10,
   "id": "ad32e3fd",
   "metadata": {},
   "outputs": [
    {
     "data": {
      "text/plain": [
       "'2022-03-28T13:40:42Z'"
      ]
     },
     "execution_count": 10,
     "metadata": {},
     "output_type": "execute_result"
    }
   ],
   "source": [
    "world_trends[0]['created_at']"
   ]
  },
  {
   "cell_type": "code",
   "execution_count": 11,
   "id": "e2e83321",
   "metadata": {},
   "outputs": [
    {
     "data": {
      "text/plain": [
       "[{'name': 'Worldwide', 'woeid': 1}]"
      ]
     },
     "execution_count": 11,
     "metadata": {},
     "output_type": "execute_result"
    }
   ],
   "source": [
    "world_trends[0]['locations']"
   ]
  },
  {
   "cell_type": "code",
   "execution_count": 12,
   "id": "9cb4120a",
   "metadata": {
    "collapsed": true
   },
   "outputs": [
    {
     "name": "stdout",
     "output_type": "stream",
     "text": [
      "Bruce Willis\n",
      "#AsItWas\n",
      "Tom Parker\n",
      "#UltimaFermata\n",
      "Camp Nou\n",
      "#MoonKnight\n",
      "#chilhavisto\n",
      "#PMSHappyBirthdayTone\n",
      "The Wanted\n",
      "Blac Chyna\n",
      "Tyga\n",
      "Die Hard\n",
      "WHEN YOURE GONE TONIGHT\n",
      "Moonlighting\n",
      "Taha Akgül\n",
      "Hunter Biden\n",
      "Oscar Isaac\n",
      "Géraldine\n",
      "McCarthy\n",
      "Avrupa Güreş Şampiyonası\n",
      "Aphasia\n",
      "a culpa é das estrelas\n",
      "Booming\n",
      "Cawthorn\n",
      "iPhone 6\n",
      "Alexia\n",
      "Avrupa Şampiyonu\n",
      "Hudson Hawk\n",
      "失語症と診断\n",
      "WE LOVE YOU JIMIN\n",
      "Jabulani\n",
      "第69回\n",
      "ブルース・ウィリスさん\n",
      "Casagrande\n",
      "John McClane\n",
      "12 Monkeys\n",
      "引退発表\n",
      "Susan Kihika\n",
      "Feyzullah Aktürk\n",
      "UERJ\n",
      "Pulp Fiction\n",
      "Lira\n",
      "Covarde\n",
      "Ivanka\n",
      "Wordle 285 X\n",
      "Exaggerated\n",
      "#TopChef\n",
      "#Πατρα\n",
      "#VolevoFareLaRockstar2\n",
      "#JKLive\n"
     ]
    }
   ],
   "source": [
    "for trend in world_trends[0]['trends']:\n",
    "    print(trend['name'])"
   ]
  },
  {
   "cell_type": "code",
   "execution_count": 13,
   "id": "225269b3",
   "metadata": {
    "collapsed": true
   },
   "outputs": [
    {
     "name": "stdout",
     "output_type": "stream",
     "text": [
      "[{'trends': [{'name': 'Bruce Willis', 'url': 'http://twitter.com/search?q=%22Bruce+Willis%22', 'promoted_content': None, 'query': '%22Bruce+Willis%22', 'tweet_volume': 102264}, {'name': '#PMSHappyBirthdayTone', 'url': 'http://twitter.com/search?q=%23PMSHappyBirthdayTone', 'promoted_content': None, 'query': '%23PMSHappyBirthdayTone', 'tweet_volume': None}, {'name': 'Blac Chyna', 'url': 'http://twitter.com/search?q=%22Blac+Chyna%22', 'promoted_content': None, 'query': '%22Blac+Chyna%22', 'tweet_volume': 10916}, {'name': 'Tyga', 'url': 'http://twitter.com/search?q=Tyga', 'promoted_content': None, 'query': 'Tyga', 'tweet_volume': 11749}, {'name': '#AsItWas', 'url': 'http://twitter.com/search?q=%23AsItWas', 'promoted_content': None, 'query': '%23AsItWas', 'tweet_volume': 20456}, {'name': 'Disney', 'url': 'http://twitter.com/search?q=Disney', 'promoted_content': None, 'query': 'Disney', 'tweet_volume': 332187}, {'name': '#NationalDoctorsDay', 'url': 'http://twitter.com/search?q=%23NationalDoctorsDay', 'promoted_content': None, 'query': '%23NationalDoctorsDay', 'tweet_volume': 12105}, {'name': 'Die Hard', 'url': 'http://twitter.com/search?q=%22Die+Hard%22', 'promoted_content': None, 'query': '%22Die+Hard%22', 'tweet_volume': 18102}, {'name': 'Moonlighting', 'url': 'http://twitter.com/search?q=Moonlighting', 'promoted_content': None, 'query': 'Moonlighting', 'tweet_volume': None}, {'name': 'McCarthy', 'url': 'http://twitter.com/search?q=McCarthy', 'promoted_content': None, 'query': 'McCarthy', 'tweet_volume': 42483}, {'name': '#GiftOfSox', 'url': 'http://twitter.com/search?q=%23GiftOfSox', 'promoted_content': None, 'query': '%23GiftOfSox', 'tweet_volume': None}, {'name': 'Booming', 'url': 'http://twitter.com/search?q=Booming', 'promoted_content': None, 'query': 'Booming', 'tweet_volume': 28954}, {'name': '#InsteadOfSlapping', 'url': 'http://twitter.com/search?q=%23InsteadOfSlapping', 'promoted_content': None, 'query': '%23InsteadOfSlapping', 'tweet_volume': None}, {'name': 'Moon Knight', 'url': 'http://twitter.com/search?q=%22Moon+Knight%22', 'promoted_content': None, 'query': '%22Moon+Knight%22', 'tweet_volume': 68830}, {'name': 'Hunter Biden', 'url': 'http://twitter.com/search?q=%22Hunter+Biden%22', 'promoted_content': None, 'query': '%22Hunter+Biden%22', 'tweet_volume': 334268}, {'name': 'Aphasia', 'url': 'http://twitter.com/search?q=Aphasia', 'promoted_content': None, 'query': 'Aphasia', 'tweet_volume': 43571}, {'name': 'Cawthorn', 'url': 'http://twitter.com/search?q=Cawthorn', 'promoted_content': None, 'query': 'Cawthorn', 'tweet_volume': 85496}, {'name': 'Tom Parker', 'url': 'http://twitter.com/search?q=%22Tom+Parker%22', 'promoted_content': None, 'query': '%22Tom+Parker%22', 'tweet_volume': 59115}, {'name': 'Exaggerated', 'url': 'http://twitter.com/search?q=Exaggerated', 'promoted_content': None, 'query': 'Exaggerated', 'tweet_volume': None}, {'name': 'The Wanted', 'url': 'http://twitter.com/search?q=%22The+Wanted%22', 'promoted_content': None, 'query': '%22The+Wanted%22', 'tweet_volume': 225516}, {'name': 'Title 42', 'url': 'http://twitter.com/search?q=%22Title+42%22', 'promoted_content': None, 'query': '%22Title+42%22', 'tweet_volume': 13149}, {'name': 'Ivanka', 'url': 'http://twitter.com/search?q=Ivanka', 'promoted_content': None, 'query': 'Ivanka', 'tweet_volume': 51564}, {'name': 'Hudson Hawk', 'url': 'http://twitter.com/search?q=%22Hudson+Hawk%22', 'promoted_content': None, 'query': '%22Hudson+Hawk%22', 'tweet_volume': None}, {'name': 'Eric Church', 'url': 'http://twitter.com/search?q=%22Eric+Church%22', 'promoted_content': None, 'query': '%22Eric+Church%22', 'tweet_volume': None}, {'name': '12 Monkeys', 'url': 'http://twitter.com/search?q=%2212+Monkeys%22', 'promoted_content': None, 'query': '%2212+Monkeys%22', 'tweet_volume': None}, {'name': 'Rob Kardashian', 'url': 'http://twitter.com/search?q=%22Rob+Kardashian%22', 'promoted_content': None, 'query': '%22Rob+Kardashian%22', 'tweet_volume': None}, {'name': 'The Fifth Element', 'url': 'http://twitter.com/search?q=%22The+Fifth+Element%22', 'promoted_content': None, 'query': '%22The+Fifth+Element%22', 'tweet_volume': None}, {'name': 'Crabtree', 'url': 'http://twitter.com/search?q=Crabtree', 'promoted_content': None, 'query': 'Crabtree', 'tweet_volume': None}, {'name': 'Jonathan Majors', 'url': 'http://twitter.com/search?q=%22Jonathan+Majors%22', 'promoted_content': None, 'query': '%22Jonathan+Majors%22', 'tweet_volume': None}, {'name': 'The Sixth Sense', 'url': 'http://twitter.com/search?q=%22The+Sixth+Sense%22', 'promoted_content': None, 'query': '%22The+Sixth+Sense%22', 'tweet_volume': None}, {'name': 'Death Becomes Her', 'url': 'http://twitter.com/search?q=%22Death+Becomes+Her%22', 'promoted_content': None, 'query': '%22Death+Becomes+Her%22', 'tweet_volume': None}, {'name': 'Clarity', 'url': 'http://twitter.com/search?q=Clarity', 'promoted_content': None, 'query': 'Clarity', 'tweet_volume': 19312}, {'name': 'Spy Kids', 'url': 'http://twitter.com/search?q=%22Spy+Kids%22', 'promoted_content': None, 'query': '%22Spy+Kids%22', 'tweet_volume': None}, {'name': 'Wears Valley', 'url': 'http://twitter.com/search?q=%22Wears+Valley%22', 'promoted_content': None, 'query': '%22Wears+Valley%22', 'tweet_volume': None}, {'name': 'Nats', 'url': 'http://twitter.com/search?q=Nats', 'promoted_content': None, 'query': 'Nats', 'tweet_volume': 26387}, {'name': 'Camp Nou', 'url': 'http://twitter.com/search?q=%22Camp+Nou%22', 'promoted_content': None, 'query': '%22Camp+Nou%22', 'tweet_volume': 74264}, {'name': 'Jerome Bettis', 'url': 'http://twitter.com/search?q=%22Jerome+Bettis%22', 'promoted_content': None, 'query': '%22Jerome+Bettis%22', 'tweet_volume': None}, {'name': 'Colbert', 'url': 'http://twitter.com/search?q=Colbert', 'promoted_content': None, 'query': 'Colbert', 'tweet_volume': 11962}, {'name': 'Marko Stunt', 'url': 'http://twitter.com/search?q=%22Marko+Stunt%22', 'promoted_content': None, 'query': '%22Marko+Stunt%22', 'tweet_volume': None}, {'name': 'The Last Boy Scout', 'url': 'http://twitter.com/search?q=%22The+Last+Boy+Scout%22', 'promoted_content': None, 'query': '%22The+Last+Boy+Scout%22', 'tweet_volume': None}, {'name': 'Oscar Isaac', 'url': 'http://twitter.com/search?q=%22Oscar+Isaac%22', 'promoted_content': None, 'query': '%22Oscar+Isaac%22', 'tweet_volume': 25366}, {'name': 'Pulp Fiction', 'url': 'http://twitter.com/search?q=%22Pulp+Fiction%22', 'promoted_content': None, 'query': '%22Pulp+Fiction%22', 'tweet_volume': None}, {'name': 'Doug Ducey', 'url': 'http://twitter.com/search?q=%22Doug+Ducey%22', 'promoted_content': None, 'query': '%22Doug+Ducey%22', 'tweet_volume': None}, {'name': 'Creed III', 'url': 'http://twitter.com/search?q=%22Creed+III%22', 'promoted_content': None, 'query': '%22Creed+III%22', 'tweet_volume': None}, {'name': 'John McClane', 'url': 'http://twitter.com/search?q=%22John+McClane%22', 'promoted_content': None, 'query': '%22John+McClane%22', 'tweet_volume': None}, {'name': 'Porsha', 'url': 'http://twitter.com/search?q=Porsha', 'promoted_content': None, 'query': 'Porsha', 'tweet_volume': None}, {'name': 'Blake Wesley', 'url': 'http://twitter.com/search?q=%22Blake+Wesley%22', 'promoted_content': None, 'query': '%22Blake+Wesley%22', 'tweet_volume': None}, {'name': 'Unbreakable', 'url': 'http://twitter.com/search?q=Unbreakable', 'promoted_content': None, 'query': 'Unbreakable', 'tweet_volume': None}, {'name': 'Calvin Johnson', 'url': 'http://twitter.com/search?q=%22Calvin+Johnson%22', 'promoted_content': None, 'query': '%22Calvin+Johnson%22', 'tweet_volume': None}, {'name': 'Moonrise Kingdom', 'url': 'http://twitter.com/search?q=%22Moonrise+Kingdom%22', 'promoted_content': None, 'query': '%22Moonrise+Kingdom%22', 'tweet_volume': None}], 'as_of': '2022-03-30T21:02:49Z', 'created_at': '2022-03-27T09:54:59Z', 'locations': [{'name': 'United States', 'woeid': 23424977}]}]\n"
     ]
    }
   ],
   "source": [
    "print(us_trends)"
   ]
  },
  {
   "cell_type": "code",
   "execution_count": 14,
   "id": "9e98daea",
   "metadata": {
    "collapsed": true
   },
   "outputs": [
    {
     "name": "stdout",
     "output_type": "stream",
     "text": [
      "Bruce Willis\n",
      "#PMSHappyBirthdayTone\n",
      "Blac Chyna\n",
      "Tyga\n",
      "#AsItWas\n",
      "Disney\n",
      "#NationalDoctorsDay\n",
      "Die Hard\n",
      "Moonlighting\n",
      "McCarthy\n",
      "#GiftOfSox\n",
      "Booming\n",
      "#InsteadOfSlapping\n",
      "Moon Knight\n",
      "Hunter Biden\n",
      "Aphasia\n",
      "Cawthorn\n",
      "Tom Parker\n",
      "Exaggerated\n",
      "The Wanted\n",
      "Title 42\n",
      "Ivanka\n",
      "Hudson Hawk\n",
      "Eric Church\n",
      "12 Monkeys\n",
      "Rob Kardashian\n",
      "The Fifth Element\n",
      "Crabtree\n",
      "Jonathan Majors\n",
      "The Sixth Sense\n",
      "Death Becomes Her\n",
      "Clarity\n",
      "Spy Kids\n",
      "Wears Valley\n",
      "Nats\n",
      "Camp Nou\n",
      "Jerome Bettis\n",
      "Colbert\n",
      "Marko Stunt\n",
      "The Last Boy Scout\n",
      "Oscar Isaac\n",
      "Pulp Fiction\n",
      "Doug Ducey\n",
      "Creed III\n",
      "John McClane\n",
      "Porsha\n",
      "Blake Wesley\n",
      "Unbreakable\n",
      "Calvin Johnson\n",
      "Moonrise Kingdom\n"
     ]
    }
   ],
   "source": [
    "for trend in us_trends[0]['trends']:\n",
    "    print(trend['name'])"
   ]
  },
  {
   "cell_type": "code",
   "execution_count": 15,
   "id": "5fe05bca",
   "metadata": {},
   "outputs": [
    {
     "name": "stdout",
     "output_type": "stream",
     "text": [
      "{'Blac Chyna', '#AsItWas', 'McCarthy', 'Ivanka', 'Exaggerated', 'John McClane', 'Camp Nou', 'The Wanted', 'Hunter Biden', 'Aphasia', 'Tyga', '12 Monkeys', 'Booming', 'Die Hard', 'Tom Parker', 'Bruce Willis', 'Pulp Fiction', '#PMSHappyBirthdayTone', 'Hudson Hawk', 'Moonlighting', 'Oscar Isaac', 'Cawthorn'}\n"
     ]
    }
   ],
   "source": [
    "world_trends_set = set([trend['name'] \n",
    "                        for trend in world_trends[0]['trends']])\n",
    "\n",
    "us_trends_set = set([trend['name'] \n",
    "                     for trend in us_trends[0]['trends']]) \n",
    "\n",
    "common_trends = world_trends_set.intersection(us_trends_set)\n",
    "\n",
    "print(common_trends)"
   ]
  },
  {
   "cell_type": "code",
   "execution_count": 16,
   "id": "d800da34",
   "metadata": {},
   "outputs": [
    {
     "name": "stdout",
     "output_type": "stream",
     "text": [
      "1\n",
      "2\n",
      "3\n"
     ]
    }
   ],
   "source": [
    "# Python tip: list comprehensions\n",
    "for i in [1,2,3]:\n",
    "    print(i)"
   ]
  },
  {
   "cell_type": "code",
   "execution_count": 17,
   "id": "b0c92934",
   "metadata": {},
   "outputs": [
    {
     "data": {
      "text/plain": [
       "[1, 2, 3]"
      ]
     },
     "execution_count": 17,
     "metadata": {},
     "output_type": "execute_result"
    }
   ],
   "source": [
    "[i for i in [1,2,3]]"
   ]
  },
  {
   "cell_type": "code",
   "execution_count": 18,
   "id": "92352a9b",
   "metadata": {},
   "outputs": [
    {
     "name": "stdout",
     "output_type": "stream",
     "text": [
      "[5, 7, 9]\n"
     ]
    }
   ],
   "source": [
    "print([i*2 + 3 for i in [1,2,3]])"
   ]
  },
  {
   "cell_type": "markdown",
   "id": "9a1bdb10",
   "metadata": {},
   "source": [
    "### Get user timeline\n",
    "- tweets for a specific user \n",
    "- endpoint:\n",
    "> https://developer.twitter.com/en/docs/twitter-api/v1/tweets/timelines/api-reference/get-statuses-user_timeline"
   ]
  },
  {
   "cell_type": "code",
   "execution_count": 19,
   "id": "47b67ca0",
   "metadata": {},
   "outputs": [],
   "source": [
    "u_timeline = twitter_api.statuses.user_timeline(screen_name='UChicago')"
   ]
  },
  {
   "cell_type": "code",
   "execution_count": 27,
   "id": "0886d16a",
   "metadata": {
    "collapsed": true
   },
   "outputs": [
    {
     "data": {
      "text/plain": [
       "{'created_at': 'Wed Mar 30 20:28:26 +0000 2022',\n",
       " 'id': 1509266322345107458,\n",
       " 'id_str': '1509266322345107458',\n",
       " 'text': \"Prof. Philip V. Bohlman is the driving force behind UChicago's upcoming Korngold Festival—a 10-day celebration of i… https://t.co/wDUfUZiptT\",\n",
       " 'truncated': True,\n",
       " 'entities': {'hashtags': [],\n",
       "  'symbols': [],\n",
       "  'user_mentions': [],\n",
       "  'urls': [{'url': 'https://t.co/wDUfUZiptT',\n",
       "    'expanded_url': 'https://twitter.com/i/web/status/1509266322345107458',\n",
       "    'display_url': 'twitter.com/i/web/status/1…',\n",
       "    'indices': [117, 140]}]},\n",
       " 'source': '<a href=\"https://prod1.sprinklr.com\" rel=\"nofollow\">Sprinklr Publishing</a>',\n",
       " 'in_reply_to_status_id': None,\n",
       " 'in_reply_to_status_id_str': None,\n",
       " 'in_reply_to_user_id': None,\n",
       " 'in_reply_to_user_id_str': None,\n",
       " 'in_reply_to_screen_name': None,\n",
       " 'user': {'id': 131144285,\n",
       "  'id_str': '131144285',\n",
       "  'name': 'The University of Chicago',\n",
       "  'screen_name': 'UChicago',\n",
       "  'location': 'Chicago, Illinois',\n",
       "  'description': \"The official Twitter feed of #UChicago—one of the world's leading research institutions. \\n\\nAccount managed by University Communications.\",\n",
       "  'url': 'https://t.co/uuoDntGbDE',\n",
       "  'entities': {'url': {'urls': [{'url': 'https://t.co/uuoDntGbDE',\n",
       "      'expanded_url': 'https://linktr.ee/UChicago',\n",
       "      'display_url': 'linktr.ee/UChicago',\n",
       "      'indices': [0, 23]}]},\n",
       "   'description': {'urls': []}},\n",
       "  'protected': False,\n",
       "  'followers_count': 76494,\n",
       "  'friends_count': 1707,\n",
       "  'listed_count': 1112,\n",
       "  'created_at': 'Fri Apr 09 11:52:19 +0000 2010',\n",
       "  'favourites_count': 6843,\n",
       "  'utc_offset': None,\n",
       "  'time_zone': None,\n",
       "  'geo_enabled': True,\n",
       "  'verified': True,\n",
       "  'statuses_count': 23071,\n",
       "  'lang': None,\n",
       "  'contributors_enabled': False,\n",
       "  'is_translator': False,\n",
       "  'is_translation_enabled': False,\n",
       "  'profile_background_color': 'EAE9E1',\n",
       "  'profile_background_image_url': 'http://abs.twimg.com/images/themes/theme1/bg.png',\n",
       "  'profile_background_image_url_https': 'https://abs.twimg.com/images/themes/theme1/bg.png',\n",
       "  'profile_background_tile': True,\n",
       "  'profile_image_url': 'http://pbs.twimg.com/profile_images/1499493687599972352/qB0mae6y_normal.jpg',\n",
       "  'profile_image_url_https': 'https://pbs.twimg.com/profile_images/1499493687599972352/qB0mae6y_normal.jpg',\n",
       "  'profile_banner_url': 'https://pbs.twimg.com/profile_banners/131144285/1641328810',\n",
       "  'profile_link_color': '800000',\n",
       "  'profile_sidebar_border_color': 'FFFFFF',\n",
       "  'profile_sidebar_fill_color': 'F7F6EE',\n",
       "  'profile_text_color': '333333',\n",
       "  'profile_use_background_image': True,\n",
       "  'has_extended_profile': False,\n",
       "  'default_profile': False,\n",
       "  'default_profile_image': False,\n",
       "  'following': False,\n",
       "  'follow_request_sent': False,\n",
       "  'notifications': False,\n",
       "  'translator_type': 'none',\n",
       "  'withheld_in_countries': []},\n",
       " 'geo': None,\n",
       " 'coordinates': None,\n",
       " 'place': None,\n",
       " 'contributors': None,\n",
       " 'is_quote_status': False,\n",
       " 'retweet_count': 1,\n",
       " 'favorite_count': 2,\n",
       " 'favorited': False,\n",
       " 'retweeted': False,\n",
       " 'possibly_sensitive': False,\n",
       " 'lang': 'en'}"
      ]
     },
     "execution_count": 27,
     "metadata": {},
     "output_type": "execute_result"
    }
   ],
   "source": [
    "u_timeline[0]"
   ]
  },
  {
   "cell_type": "code",
   "execution_count": 20,
   "id": "bfff6ddb",
   "metadata": {},
   "outputs": [
    {
     "data": {
      "text/plain": [
       "\"Prof. Philip V. Bohlman is the driving force behind UChicago's upcoming Korngold Festival—a 10-day celebration of i… https://t.co/wDUfUZiptT\""
      ]
     },
     "execution_count": 20,
     "metadata": {},
     "output_type": "execute_result"
    }
   ],
   "source": [
    "u_timeline[0]['text']"
   ]
  },
  {
   "cell_type": "code",
   "execution_count": 21,
   "id": "33c62e8c",
   "metadata": {},
   "outputs": [
    {
     "data": {
      "text/plain": [
       "'https://t.co/vsNMOPV6KC'"
      ]
     },
     "execution_count": 21,
     "metadata": {},
     "output_type": "execute_result"
    }
   ],
   "source": [
    "u_timeline[1]['text']"
   ]
  },
  {
   "cell_type": "markdown",
   "id": "66586602",
   "metadata": {},
   "source": [
    "### Get followers\n",
    "- Results are given in groups of 20 users and multiple \"pages\" of results can be navigated through using the next_cursor value in subsequent requests.\n",
    "- endpoint:\n",
    "> https://developer.twitter.com/en/docs/twitter-api/v1/accounts-and-users/follow-search-get-users/api-reference/get-followers-list"
   ]
  },
  {
   "cell_type": "code",
   "execution_count": 22,
   "id": "4267edab",
   "metadata": {},
   "outputs": [],
   "source": [
    "uc_followers = twitter_api.followers.list(screen_name='UChicago', count=200)"
   ]
  },
  {
   "cell_type": "code",
   "execution_count": 23,
   "id": "f6256fc5",
   "metadata": {},
   "outputs": [
    {
     "data": {
      "text/plain": [
       "dict_keys(['users', 'next_cursor', 'next_cursor_str', 'previous_cursor', 'previous_cursor_str', 'total_count'])"
      ]
     },
     "execution_count": 23,
     "metadata": {},
     "output_type": "execute_result"
    }
   ],
   "source": [
    "uc_followers.keys()"
   ]
  },
  {
   "cell_type": "code",
   "execution_count": 24,
   "id": "7dd25cac",
   "metadata": {
    "collapsed": true
   },
   "outputs": [
    {
     "name": "stdout",
     "output_type": "stream",
     "text": [
      "Songrun He\n",
      "Lily Blackman 2025 GK\n",
      "Isabelle Daw\n",
      "Claudia Alvarado she/her\n",
      "Kugonza🇺🇬🇷🇼\n",
      "Nayan Mukherjee 🇮🇳\n",
      "Karen Zhou\n",
      "Andri Ferguson\n",
      "David Ansari (he/him)\n",
      "sahın\n",
      "Chethan\n",
      "Sobhit Bishi\n",
      "Yin WANG\n",
      "JAICHAND (Sonu Singh O+) 🇮🇳\n",
      "Ovunc Oral\n",
      "Adeep\n",
      "Venkata Ramana\n",
      "Gideon Anagli\n",
      "martyra peng\n",
      "Vicente A. Garcia M.\n",
      "W. Ben Hur\n",
      "想公主\n",
      "Dave Yount\n",
      "Irreverent Seminarian\n",
      "G_Moses\n",
      "Henry Pinner\n",
      "Mariam\n",
      "Simon A\n",
      "Gemm\n",
      "Kevin Fontana Fantinatti\n",
      "Carlos 0504\n",
      "Adrian Puga\n",
      "Liz theresa\n",
      "Mark Tupy\n",
      "120 legit120\n",
      "WT Lam\n",
      "K N 🌻🇺🇦🇺🇲🇹🇼\n",
      "something\n",
      "Paula Algarra\n",
      "Elf Lab @ UChicago\n",
      "سعَد العتيبي-Saad Alotaibi\n",
      "messi\n",
      "Black Revolutionary Collective\n",
      "Patryk\n",
      "Smart Contracts Chicago\n",
      "Agueda Solís\n",
      "rich\n",
      "Ryoma Shimazumi\n",
      "Noor Suwwan\n",
      "tom cantrell\n",
      "HM93\n",
      "Donna\n",
      "Christopher Rios\n",
      "王凯源\n",
      "Anna Kantarjian\n",
      "Hauke Group\n",
      "Dũng Nguyễn Tiến\n",
      "Anthony\n",
      "Solansvera\n",
      "Xenocs\n",
      "Tarek Hamada\n",
      "Adarsh Kumar\n",
      "Ayako O. Henry\n",
      "Ángel Darío Orué A.\n",
      "Reza Sch\n",
      "don't block account.\n",
      "Pankaj Budhiraja\n",
      "Katherina_K\n",
      "Rebeca\n",
      "Monica Choi\n",
      "dulin\n",
      "NDBulldogFootball\n",
      "fengsd\n",
      "Karen Pekow\n",
      "Juan Martin Camacho\n",
      "Marty. Quick\n",
      "Mannix Burns\n",
      "Alessandra Hereman\n",
      "Diego Fonseca\n",
      "Sil\n",
      "Loay Al Rashdi\n",
      "Samantha Rough\n",
      "Carmen Careaga Lusich\n",
      "Miles B\n",
      "Alex Byrnes\n",
      "Blessings\n",
      "Donald Green\n",
      "Annie\n",
      "Ifeanyi G.\n",
      "Ashutosh kumar\n",
      "Bongani Madevu\n",
      "Alvaro Mendez #56362\n",
      "Marcelo Recalde\n",
      "Dharmendra Chatur\n",
      "Oscar Stark\n",
      "Suhail Ahmed\n",
      "andrea\n",
      "Devyn Kniese\n",
      "Raúl Bafran\n",
      "Yi\n",
      "jasmine.gulati@comcast.net\n",
      "Sick💋\n",
      "Brett Baskin 🇺🇸🇺🇳\n",
      "Learning Lee\n",
      "Eric Chang\n",
      "Anna Puzio\n",
      "Juha\n",
      "JALID AHMAD MIR\n",
      "NamSor\n",
      "Troy Lannom\n",
      "Jennifer Barry\n",
      "Jill Steinberg\n",
      "Deacon\n",
      "TheThanantH\n",
      "Pankaj Budhiraja\n",
      "Arpit Kumar\n",
      "Amy Romine\n",
      "Pankaj Budhiraja\n",
      ".\n",
      "Anastasia\n",
      "Aidan Smith\n",
      "Googlenauta\n",
      "Camila C. Ibarra\n",
      "Joel Benítez\n",
      "Liri\n",
      "Kathryn Guo\n",
      "Chris Stacey\n",
      "Andrew Kelley\n",
      "Raja Masroor Hassan\n",
      "Latrell Torrez\n",
      "Kirk P Remmers\n",
      "sayantan sakar\n",
      "Edwin Ned Stimpson\n",
      "Georgia Markarian\n",
      "Lexi\n",
      "Thozamile_Mvumvu _Tshabalala\n",
      "Kim Fe Cramer\n",
      "Madison Horn for U.S. Senate\n",
      "مولاي محمد\n",
      "Monique Brooks\n",
      "Grace C\n",
      "Juancho\n",
      "Ngum Shingwa Mkong (TikarOku Prince ⚡$TTechTykun)\n",
      "Sachin Kumar S\n",
      "Deqa Aden\n",
      "John Smith\n",
      "احمد اویس\n",
      "Jaison’s\n",
      "Beatriz Mota Tiburcio\n",
      "Ahmetmehmetali\n",
      "Alexis Renteria\n",
      "kantura\n",
      "abdelrahman nagy\n",
      "Tatiana RQ\n",
      "lanmaonuo\n",
      "lakiopio\n",
      "jorge nova\n",
      "Julie Kayes\n",
      "Arvind Panday\n",
      "VIBHUTI NANDAN\n",
      "Mark Sikorski\n",
      "latest\n",
      "Our rights are just demands\n",
      "lesan ul arab\n",
      "Trainee Admission - Simranjeet Kour\n",
      "Nader L. Haider\n",
      "Christian Chears\n",
      "❤️🦖RosieDaffodil 🐳\n",
      "Matthew Durbin\n",
      "Muhammad Ruhan\n",
      "Bonifacio Aleman, MSW\n",
      "Aaron Schein\n",
      "Ava Wagner\n",
      "Ricardo Rizo Patrón\n",
      "Julian 🌻\n",
      "ocd hua cheng propaganda machine (✨store open✨)\n",
      "DBDrumming\n",
      "Jesus Torres\n",
      "Mony Molina\n",
      "Nextgen Graphics\n",
      "Atomicllama312\n",
      "Cesar Osprey\n",
      "Ray King\n",
      "Melissa Rascoe\n",
      "Bill Walter\n",
      "hhhhh\n",
      "Arnav Sudheer\n",
      "Kelly Keel\n",
      "Stamatia Ms\n",
      "Cunning Foxes\n",
      "Sohaib Ahmad\n",
      "Heena حنا\n",
      "Stanley James Esj\n",
      "Sourasish Chakraborty\n",
      "John Gunerli\n",
      "Openaccess Journals\n",
      "Jason Mondragon\n",
      "currencyfxjle\n",
      "Dino Saplala\n",
      "zyva 🌬\n"
     ]
    }
   ],
   "source": [
    "for u in uc_followers['users']:\n",
    "    print(u['name'])"
   ]
  },
  {
   "cell_type": "markdown",
   "id": "e2a2608b",
   "metadata": {},
   "source": [
    "### Limitations\n",
    "- Rate limits! https://developer.twitter.com/en/docs/rate-limits\n",
    "> e.g., 450 search requests in 15 minute window <br>\n",
    "- Can only search 2 weeks in past\n",
    "> But can get up to 3,200 most recent tweets of a user <br>\n",
    "- Response code: \n",
    "> https://developer.twitter.com/en/support/twitter-api/error-troubleshooting"
   ]
  },
  {
   "cell_type": "code",
   "execution_count": 14,
   "id": "c6613241",
   "metadata": {},
   "outputs": [],
   "source": [
    "tweets = twitter_api.search.tweets(q='UChicago')"
   ]
  },
  {
   "cell_type": "code",
   "execution_count": 25,
   "id": "cf8614ef",
   "metadata": {
    "collapsed": true
   },
   "outputs": [
    {
     "data": {
      "text/plain": [
       "{'completed_in': 0.071,\n",
       " 'max_id': 1509229893858598922,\n",
       " 'max_id_str': '1509229893858598922',\n",
       " 'next_results': '?max_id=1509222178696351750&q=UChicago&include_entities=1',\n",
       " 'query': 'UChicago',\n",
       " 'refresh_url': '?since_id=1509229893858598922&q=UChicago&include_entities=1',\n",
       " 'count': 15,\n",
       " 'since_id': 0,\n",
       " 'since_id_str': '0'}"
      ]
     },
     "execution_count": 25,
     "metadata": {},
     "output_type": "execute_result"
    }
   ],
   "source": [
    "tweets['search_metadata']#.keys()#statuses.status_code"
   ]
  },
  {
   "cell_type": "code",
   "execution_count": null,
   "id": "2c8cad68",
   "metadata": {},
   "outputs": [],
   "source": [
    "# Dealing with rate limits.\n",
    "# search tweets endpoint: https://developer.twitter.com/en/docs/twitter-api/v1/tweets/search/api-reference/get-search-tweets\n",
    "def robust_request(twitter_api, resource, params, max_tries=5):\n",
    "    \"\"\" If a Twitter request fails, sleep for 15 minutes.\n",
    "    Do this at most max_tries times before quitting.\n",
    "    Args:\n",
    "      twitter .... A TwitterAPI object.\n",
    "      resource ... A resource string to request.\n",
    "      params ..... A parameter dictionary for the request.\n",
    "      max_tries .. The maximum number of tries to attempt.\n",
    "    Returns:\n",
    "      A TwitterResponse object, or None if failed.\n",
    "    \"\"\"\n",
    "    for i in range(max_tries):\n",
    "        request = twitter_api.search.tweets(q)\n",
    "        if request:\n",
    "            return request\n",
    "        else:\n",
    "            print('Got error: %s \\nsleeping for 15 minutes.' \n",
    "                  % request.text)\n",
    "            time.sleep(61 * 15)"
   ]
  },
  {
   "cell_type": "markdown",
   "id": "73886bb1",
   "metadata": {},
   "source": [
    "### Collect tweet data\n",
    "- endpoint:\n",
    "> https://developer.twitter.com/en/docs/twitter-api/tweets/search/api-reference/get-tweets-search-recent"
   ]
  },
  {
   "cell_type": "code",
   "execution_count": 94,
   "id": "5c131974",
   "metadata": {},
   "outputs": [],
   "source": [
    "import json\n",
    "# Import unquote to prevent url encoding errors in next_results\n",
    "from urllib.parse import unquote"
   ]
  },
  {
   "cell_type": "markdown",
   "id": "786eb34c",
   "metadata": {},
   "source": [
    "Search tweets endpoint:\n",
    "> https://developer.twitter.com/en/docs/twitter-api/v1/tweets/search/api-reference/get-search-tweets"
   ]
  },
  {
   "cell_type": "code",
   "execution_count": 26,
   "id": "481a1989",
   "metadata": {},
   "outputs": [],
   "source": [
    "# Set the query variable to a trending topic or anything else for that matter. \n",
    "\n",
    "q = 'UChicago' \n",
    "count = 100\n",
    "\n",
    "search_results = twitter_api.search.tweets(q=q, count=count)\n",
    "statuses = search_results['statuses']"
   ]
  },
  {
   "cell_type": "code",
   "execution_count": 27,
   "id": "4ef6cb96",
   "metadata": {},
   "outputs": [
    {
     "data": {
      "text/plain": [
       "list"
      ]
     },
     "execution_count": 27,
     "metadata": {},
     "output_type": "execute_result"
    }
   ],
   "source": [
    "type(statuses)"
   ]
  },
  {
   "cell_type": "code",
   "execution_count": 28,
   "id": "c8326f12",
   "metadata": {},
   "outputs": [
    {
     "data": {
      "text/plain": [
       "100"
      ]
     },
     "execution_count": 28,
     "metadata": {},
     "output_type": "execute_result"
    }
   ],
   "source": [
    "len(statuses)"
   ]
  },
  {
   "cell_type": "code",
   "execution_count": 102,
   "id": "84ce68c0",
   "metadata": {
    "collapsed": true
   },
   "outputs": [
    {
     "data": {
      "text/plain": [
       "{'created_at': 'Wed Mar 30 03:14:04 +0000 2022',\n",
       " 'id': 1509006016058376192,\n",
       " 'id_str': '1509006016058376192',\n",
       " 'text': 'RT @cazadorpy: @HugoPortilloPY @HarrisPolicy @UChicago Será que esta Universidad esta enterada que este C.Fernández V. siendo pte del BCP r…',\n",
       " 'truncated': False,\n",
       " 'entities': {'hashtags': [],\n",
       "  'symbols': [],\n",
       "  'user_mentions': [{'screen_name': 'cazadorpy',\n",
       "    'name': 'El Cazador',\n",
       "    'id': 1257066867602198528,\n",
       "    'id_str': '1257066867602198528',\n",
       "    'indices': [3, 13]},\n",
       "   {'screen_name': 'HugoPortilloPY',\n",
       "    'name': 'Hugo Portillo',\n",
       "    'id': 4902959409,\n",
       "    'id_str': '4902959409',\n",
       "    'indices': [15, 30]},\n",
       "   {'screen_name': 'HarrisPolicy',\n",
       "    'name': 'Harris Policy',\n",
       "    'id': 248941406,\n",
       "    'id_str': '248941406',\n",
       "    'indices': [31, 44]},\n",
       "   {'screen_name': 'UChicago',\n",
       "    'name': 'The University of Chicago',\n",
       "    'id': 131144285,\n",
       "    'id_str': '131144285',\n",
       "    'indices': [45, 54]}],\n",
       "  'urls': []},\n",
       " 'metadata': {'iso_language_code': 'es', 'result_type': 'recent'},\n",
       " 'source': '<a href=\"http://twitter.com/download/iphone\" rel=\"nofollow\">Twitter for iPhone</a>',\n",
       " 'in_reply_to_status_id': None,\n",
       " 'in_reply_to_status_id_str': None,\n",
       " 'in_reply_to_user_id': None,\n",
       " 'in_reply_to_user_id_str': None,\n",
       " 'in_reply_to_screen_name': None,\n",
       " 'user': {'id': 4902959409,\n",
       "  'id_str': '4902959409',\n",
       "  'name': 'Hugo Portillo',\n",
       "  'screen_name': 'HugoPortilloPY',\n",
       "  'location': 'Paraguay',\n",
       "  'description': 'L-V 17h Artículo26. Lic Adm UNA. Ciudadano. Lucho contra la CORRUPCIÓN. Critico a todos. Orgulloso nieto de un combatiente que murió en la Guerra Por El Chaco.',\n",
       "  'url': 'https://t.co/VnG8tOgv2U',\n",
       "  'entities': {'url': {'urls': [{'url': 'https://t.co/VnG8tOgv2U',\n",
       "      'expanded_url': 'http://hugoportillo.com',\n",
       "      'display_url': 'hugoportillo.com',\n",
       "      'indices': [0, 23]}]},\n",
       "   'description': {'urls': []}},\n",
       "  'protected': False,\n",
       "  'followers_count': 32405,\n",
       "  'friends_count': 2916,\n",
       "  'listed_count': 20,\n",
       "  'created_at': 'Fri Feb 12 23:43:12 +0000 2016',\n",
       "  'favourites_count': 104175,\n",
       "  'utc_offset': None,\n",
       "  'time_zone': None,\n",
       "  'geo_enabled': True,\n",
       "  'verified': False,\n",
       "  'statuses_count': 53124,\n",
       "  'lang': None,\n",
       "  'contributors_enabled': False,\n",
       "  'is_translator': False,\n",
       "  'is_translation_enabled': False,\n",
       "  'profile_background_color': 'F5F8FA',\n",
       "  'profile_background_image_url': None,\n",
       "  'profile_background_image_url_https': None,\n",
       "  'profile_background_tile': False,\n",
       "  'profile_image_url': 'http://pbs.twimg.com/profile_images/1470386370292199431/1VLuD-Oh_normal.jpg',\n",
       "  'profile_image_url_https': 'https://pbs.twimg.com/profile_images/1470386370292199431/1VLuD-Oh_normal.jpg',\n",
       "  'profile_banner_url': 'https://pbs.twimg.com/profile_banners/4902959409/1633923770',\n",
       "  'profile_link_color': '1DA1F2',\n",
       "  'profile_sidebar_border_color': 'C0DEED',\n",
       "  'profile_sidebar_fill_color': 'DDEEF6',\n",
       "  'profile_text_color': '333333',\n",
       "  'profile_use_background_image': True,\n",
       "  'has_extended_profile': True,\n",
       "  'default_profile': True,\n",
       "  'default_profile_image': False,\n",
       "  'following': False,\n",
       "  'follow_request_sent': False,\n",
       "  'notifications': False,\n",
       "  'translator_type': 'none',\n",
       "  'withheld_in_countries': []},\n",
       " 'geo': None,\n",
       " 'coordinates': None,\n",
       " 'place': None,\n",
       " 'contributors': None,\n",
       " 'retweeted_status': {'created_at': 'Mon Mar 28 22:35:33 +0000 2022',\n",
       "  'id': 1508573536167895048,\n",
       "  'id_str': '1508573536167895048',\n",
       "  'text': '@HugoPortilloPY @HarrisPolicy @UChicago Será que esta Universidad esta enterada que este C.Fernández V. siendo pte… https://t.co/xhkYQj4YYt',\n",
       "  'truncated': True,\n",
       "  'entities': {'hashtags': [],\n",
       "   'symbols': [],\n",
       "   'user_mentions': [{'screen_name': 'HugoPortilloPY',\n",
       "     'name': 'Hugo Portillo',\n",
       "     'id': 4902959409,\n",
       "     'id_str': '4902959409',\n",
       "     'indices': [0, 15]},\n",
       "    {'screen_name': 'HarrisPolicy',\n",
       "     'name': 'Harris Policy',\n",
       "     'id': 248941406,\n",
       "     'id_str': '248941406',\n",
       "     'indices': [16, 29]},\n",
       "    {'screen_name': 'UChicago',\n",
       "     'name': 'The University of Chicago',\n",
       "     'id': 131144285,\n",
       "     'id_str': '131144285',\n",
       "     'indices': [30, 39]}],\n",
       "   'urls': [{'url': 'https://t.co/xhkYQj4YYt',\n",
       "     'expanded_url': 'https://twitter.com/i/web/status/1508573536167895048',\n",
       "     'display_url': 'twitter.com/i/web/status/1…',\n",
       "     'indices': [116, 139]}]},\n",
       "  'metadata': {'iso_language_code': 'es', 'result_type': 'recent'},\n",
       "  'source': '<a href=\"http://twitter.com/download/android\" rel=\"nofollow\">Twitter for Android</a>',\n",
       "  'in_reply_to_status_id': 1508521611850301446,\n",
       "  'in_reply_to_status_id_str': '1508521611850301446',\n",
       "  'in_reply_to_user_id': 4902959409,\n",
       "  'in_reply_to_user_id_str': '4902959409',\n",
       "  'in_reply_to_screen_name': 'HugoPortilloPY',\n",
       "  'user': {'id': 1257066867602198528,\n",
       "   'id_str': '1257066867602198528',\n",
       "   'name': 'El Cazador',\n",
       "   'screen_name': 'cazadorpy',\n",
       "   'location': '',\n",
       "   'description': '',\n",
       "   'url': None,\n",
       "   'entities': {'description': {'urls': []}},\n",
       "   'protected': False,\n",
       "   'followers_count': 70,\n",
       "   'friends_count': 13,\n",
       "   'listed_count': 0,\n",
       "   'created_at': 'Sun May 03 22:00:59 +0000 2020',\n",
       "   'favourites_count': 250,\n",
       "   'utc_offset': None,\n",
       "   'time_zone': None,\n",
       "   'geo_enabled': False,\n",
       "   'verified': False,\n",
       "   'statuses_count': 1545,\n",
       "   'lang': None,\n",
       "   'contributors_enabled': False,\n",
       "   'is_translator': False,\n",
       "   'is_translation_enabled': False,\n",
       "   'profile_background_color': 'F5F8FA',\n",
       "   'profile_background_image_url': None,\n",
       "   'profile_background_image_url_https': None,\n",
       "   'profile_background_tile': False,\n",
       "   'profile_image_url': 'http://pbs.twimg.com/profile_images/1307760275140022273/riU5pvnv_normal.jpg',\n",
       "   'profile_image_url_https': 'https://pbs.twimg.com/profile_images/1307760275140022273/riU5pvnv_normal.jpg',\n",
       "   'profile_link_color': '1DA1F2',\n",
       "   'profile_sidebar_border_color': 'C0DEED',\n",
       "   'profile_sidebar_fill_color': 'DDEEF6',\n",
       "   'profile_text_color': '333333',\n",
       "   'profile_use_background_image': True,\n",
       "   'has_extended_profile': False,\n",
       "   'default_profile': True,\n",
       "   'default_profile_image': False,\n",
       "   'following': False,\n",
       "   'follow_request_sent': False,\n",
       "   'notifications': False,\n",
       "   'translator_type': 'none',\n",
       "   'withheld_in_countries': []},\n",
       "  'geo': None,\n",
       "  'coordinates': None,\n",
       "  'place': None,\n",
       "  'contributors': None,\n",
       "  'is_quote_status': False,\n",
       "  'retweet_count': 2,\n",
       "  'favorite_count': 3,\n",
       "  'favorited': False,\n",
       "  'retweeted': False,\n",
       "  'lang': 'es'},\n",
       " 'is_quote_status': False,\n",
       " 'retweet_count': 2,\n",
       " 'favorite_count': 0,\n",
       " 'favorited': False,\n",
       " 'retweeted': False,\n",
       " 'lang': 'es'}"
      ]
     },
     "execution_count": 102,
     "metadata": {},
     "output_type": "execute_result"
    }
   ],
   "source": [
    "statuses[0]"
   ]
  },
  {
   "cell_type": "code",
   "execution_count": 103,
   "id": "02d4881b",
   "metadata": {},
   "outputs": [
    {
     "data": {
      "text/plain": [
       "dict"
      ]
     },
     "execution_count": 103,
     "metadata": {},
     "output_type": "execute_result"
    }
   ],
   "source": [
    "type(statuses[0])"
   ]
  },
  {
   "cell_type": "code",
   "execution_count": 104,
   "id": "86bfa356",
   "metadata": {},
   "outputs": [
    {
     "data": {
      "text/plain": [
       "dict_keys(['created_at', 'id', 'id_str', 'text', 'truncated', 'entities', 'metadata', 'source', 'in_reply_to_status_id', 'in_reply_to_status_id_str', 'in_reply_to_user_id', 'in_reply_to_user_id_str', 'in_reply_to_screen_name', 'user', 'geo', 'coordinates', 'place', 'contributors', 'retweeted_status', 'is_quote_status', 'retweet_count', 'favorite_count', 'favorited', 'retweeted', 'lang'])"
      ]
     },
     "execution_count": 104,
     "metadata": {},
     "output_type": "execute_result"
    }
   ],
   "source": [
    "statuses[0].keys()"
   ]
  },
  {
   "cell_type": "code",
   "execution_count": 106,
   "id": "498597e7",
   "metadata": {},
   "outputs": [
    {
     "data": {
      "text/plain": [
       "'RT @cazadorpy: @HugoPortilloPY @HarrisPolicy @UChicago Será que esta Universidad esta enterada que este C.Fernández V. siendo pte del BCP r…'"
      ]
     },
     "execution_count": 106,
     "metadata": {},
     "output_type": "execute_result"
    }
   ],
   "source": [
    "statuses[0]['text']"
   ]
  },
  {
   "cell_type": "code",
   "execution_count": 108,
   "id": "ee0aec5c",
   "metadata": {
    "collapsed": true
   },
   "outputs": [
    {
     "name": "stdout",
     "output_type": "stream",
     "text": [
      "\n",
      "RT @cazadorpy: @HugoPortilloPY @HarrisPolicy @UChicago Será que esta Universidad esta enterada que este C.Fernández V. siendo pte del BCP r…\n",
      "#Favorites:  0\n",
      "#Retweets:  2\n",
      "\n",
      "#CFP #socialsciences #humanities: last date 31st Mar 2022\n",
      "https://t.co/hsp1INXBk8\n",
      "@_KSU @everythinstudnt… https://t.co/mUiffWGM3Q\n",
      "#Favorites:  0\n",
      "#Retweets:  0\n",
      "\n",
      "RT @ArtsPrison: The “Truth and Beauty in the Hard Places” exhibition opens 1/27. This exhibition was put together by many community members…\n",
      "#Favorites:  0\n",
      "#Retweets:  1\n",
      "\n",
      "Thanks to @HarrisPolicy and @UChicago_WiPP for featuring me during #WomensHistoryMonth Leading Follies was a highli… https://t.co/uuv92PzAc9\n",
      "#Favorites:  3\n",
      "#Retweets:  0\n",
      "\n",
      "RT @ArtsPrison: This Friday at 6-8 PM join PNAP community members Alice Kim, Trayce Matthews, Tara Betts, and Renaldo Hudson for a closing…\n",
      "#Favorites:  0\n",
      "#Retweets:  1\n",
      "\n",
      "RT @bryankaus: Love @UChicago economist @Econ_4_Everyone’s new book, The Voltage Effect - a fresh look at the drivers that enable ideas, pr…\n",
      "#Favorites:  0\n",
      "#Retweets:  1\n",
      "\n",
      "RT @katherinelsm: since this struck a chord...it turns out someone is writing about this! check out this great paper: https://t.co/U21CAhrl…\n",
      "#Favorites:  0\n",
      "#Retweets:  1\n",
      "\n",
      "RT @LarcaParis: Decolonial and Queer of Color Archiving | Center in Paris | The University of Chicago https://t.co/ULFBfLg7qd @sandeepbak @…\n",
      "#Favorites:  0\n",
      "#Retweets:  6\n",
      "\n",
      "RT @jason__haider: Attracting unsuspecting insects with its uncanny, flower-like appearance, the deceptive, nearly indistinguishable floral…\n",
      "#Favorites:  0\n",
      "#Retweets:  688\n",
      "\n",
      "RT @anisha0singh: Surreal to be teaching Behavioral Experiments in International Development at @UChicago's Harris School all the way from…\n",
      "#Favorites:  0\n",
      "#Retweets:  4\n"
     ]
    }
   ],
   "source": [
    "for i in range(10):\n",
    "    print()\n",
    "    print(statuses[i]['text'])\n",
    "    print('#Favorites: ', statuses[i]['favorite_count'])\n",
    "    print('#Retweets: ', statuses[i]['retweet_count'])"
   ]
  },
  {
   "cell_type": "markdown",
   "id": "8598adc9",
   "metadata": {},
   "source": [
    "### Extracting attributes from tweets\n",
    "- E.g., text, screen names, and hashtags"
   ]
  },
  {
   "cell_type": "code",
   "execution_count": 115,
   "id": "c5041842",
   "metadata": {},
   "outputs": [],
   "source": [
    "status_texts = [status['text'] for status in statuses]\n",
    "\n",
    "screen_names = [user_mention['screen_name'] \n",
    "                 for status in statuses\n",
    "                     for user_mention in status['entities']['user_mentions'] ]\n",
    "\n",
    "hashtags = [hashtag['text'] \n",
    "             for status in statuses\n",
    "                 for hashtag in status['entities']['hashtags'] ]\n",
    "\n",
    "# Compute a collection of all words from all tweets\n",
    "words = [w \n",
    "         for t in status_texts \n",
    "            for w in t.split()]\n"
   ]
  },
  {
   "cell_type": "code",
   "execution_count": 119,
   "id": "f9df4aa9",
   "metadata": {},
   "outputs": [
    {
     "data": {
      "text/plain": [
       "['RT @cazadorpy: @HugoPortilloPY @HarrisPolicy @UChicago Será que esta Universidad esta enterada que este C.Fernández V. siendo pte del BCP r…',\n",
       " '#CFP #socialsciences #humanities: last date 31st Mar 2022\\nhttps://t.co/hsp1INXBk8\\n@_KSU @everythinstudnt… https://t.co/mUiffWGM3Q',\n",
       " 'RT @ArtsPrison: The “Truth and Beauty in the Hard Places” exhibition opens 1/27. This exhibition was put together by many community members…']"
      ]
     },
     "execution_count": 119,
     "metadata": {},
     "output_type": "execute_result"
    }
   ],
   "source": [
    "status_texts[:3]"
   ]
  },
  {
   "cell_type": "code",
   "execution_count": 121,
   "id": "38df127b",
   "metadata": {
    "collapsed": true
   },
   "outputs": [
    {
     "name": "stdout",
     "output_type": "stream",
     "text": [
      "[\n",
      " \"RT @cazadorpy: @HugoPortilloPY @HarrisPolicy @UChicago Ser\\u00e1 que esta Universidad esta enterada que este C.Fern\\u00e1ndez V. siendo pte del BCP r\\u2026\",\n",
      " \"#CFP #socialsciences #humanities: last date 31st Mar 2022\\nhttps://t.co/hsp1INXBk8\\n@_KSU @everythinstudnt\\u2026 https://t.co/mUiffWGM3Q\",\n",
      " \"RT @ArtsPrison: The \\u201cTruth and Beauty in the Hard Places\\u201d exhibition opens 1/27. This exhibition was put together by many community members\\u2026\",\n",
      " \"Thanks to @HarrisPolicy and @UChicago_WiPP for featuring me during #WomensHistoryMonth Leading Follies was a highli\\u2026 https://t.co/uuv92PzAc9\",\n",
      " \"RT @ArtsPrison: This Friday at 6-8 PM join PNAP community members Alice Kim, Trayce Matthews, Tara Betts, and Renaldo Hudson for a closing\\u2026\"\n",
      "]\n"
     ]
    }
   ],
   "source": [
    "# print in json format\n",
    "print(json.dumps(status_texts[0:5], indent=1))"
   ]
  },
  {
   "cell_type": "code",
   "execution_count": 125,
   "id": "7b11db55",
   "metadata": {
    "collapsed": true
   },
   "outputs": [
    {
     "name": "stdout",
     "output_type": "stream",
     "text": [
      "[\n",
      " \"cazadorpy\",\n",
      " \"HugoPortilloPY\",\n",
      " \"HarrisPolicy\",\n",
      " \"UChicago\",\n",
      " \"_KSU\"\n",
      "]\n",
      "[\n",
      " \"CFP\",\n",
      " \"socialsciences\",\n",
      " \"humanities\",\n",
      " \"WomensHistoryMonth\",\n",
      " \"WFNS2022\"\n",
      "]\n",
      "[\n",
      " \"RT\",\n",
      " \"@cazadorpy:\",\n",
      " \"@HugoPortilloPY\",\n",
      " \"@HarrisPolicy\",\n",
      " \"@UChicago\"\n",
      "]\n"
     ]
    }
   ],
   "source": [
    "# Explore the first 5 items for each list\n",
    "print(json.dumps(screen_names[0:5], indent=1) )\n",
    "print(json.dumps(hashtags[0:5], indent=1))\n",
    "print(json.dumps(words[0:5], indent=1))"
   ]
  },
  {
   "cell_type": "markdown",
   "id": "f01fd918",
   "metadata": {},
   "source": [
    "### Finding the most popular retweets"
   ]
  },
  {
   "cell_type": "code",
   "execution_count": 136,
   "id": "04a1d8b6",
   "metadata": {
    "collapsed": true
   },
   "outputs": [
    {
     "data": {
      "text/plain": [
       "[(688,\n",
       "  'jason__haider',\n",
       "  1501400253248933890,\n",
       "  'RT @jason__haider: Attracting unsuspecting insects with its uncanny, flower-like appearance, the deceptive, nearly indistinguishable floral…'),\n",
       " (76,\n",
       "  'anita_simha',\n",
       "  1508476019153457152,\n",
       "  \"RT @anita_simha: It's not quite at Oscars-slap level of excitement, but my very first first-author publication is live and open-access on t…\"),\n",
       " (76,\n",
       "  'anita_simha',\n",
       "  1508476019153457152,\n",
       "  \"RT @anita_simha: It's not quite at Oscars-slap level of excitement, but my very first first-author publication is live and open-access on t…\"),\n",
       " (76,\n",
       "  'anita_simha',\n",
       "  1508476019153457152,\n",
       "  \"RT @anita_simha: It's not quite at Oscars-slap level of excitement, but my very first first-author publication is live and open-access on t…\"),\n",
       " (76,\n",
       "  'anita_simha',\n",
       "  1508476019153457152,\n",
       "  \"RT @anita_simha: It's not quite at Oscars-slap level of excitement, but my very first first-author publication is live and open-access on t…\")]"
      ]
     },
     "execution_count": 136,
     "metadata": {},
     "output_type": "execute_result"
    }
   ],
   "source": [
    "# list comprehension\n",
    "retweets = [\n",
    "            # Store out a tuple of these attributes' values...\n",
    "            (status['retweet_count'], \n",
    "             status['retweeted_status']['user']['screen_name'],\n",
    "             status['retweeted_status']['id'],\n",
    "             status['text']) \n",
    "            \n",
    "            # ... for each status ...\n",
    "            for status in statuses \n",
    "            # ... so long as the 'retweeted_status' is a key in status.\n",
    "                if 'retweeted_status' in status.keys()\n",
    "           ]\n",
    "\n",
    "# Slice off the first 5 from the sorted results and display each item \n",
    "sorted(retweets, reverse=True)[:5]"
   ]
  },
  {
   "cell_type": "markdown",
   "id": "12c57bbd",
   "metadata": {},
   "source": [
    "#### Histogram of retweet counts"
   ]
  },
  {
   "cell_type": "code",
   "execution_count": 171,
   "id": "0082c255",
   "metadata": {},
   "outputs": [
    {
     "data": {
      "text/plain": [
       "Text(0, 0.5, 'Number of tweets in bin')"
      ]
     },
     "execution_count": 171,
     "metadata": {},
     "output_type": "execute_result"
    },
    {
     "data": {
      "image/png": "[encoded data removed]",
      "text/plain": [
       "<Figure size 432x288 with 1 Axes>"
      ]
     },
     "metadata": {
      "needs_background": "light"
     },
     "output_type": "display_data"
    }
   ],
   "source": [
    "# Using underscores while unpacking values in\n",
    "# a tuple is idiomatic for discarding them\n",
    "\n",
    "counts = [count for count, _, _, _ in retweets]\n",
    "\n",
    "plt.hist(counts)\n",
    "plt.title('Retweets')\n",
    "plt.xlabel('Bins (number of times retweeted)')\n",
    "plt.ylabel('Number of tweets in bin')"
   ]
  },
  {
   "cell_type": "markdown",
   "id": "0038aba1",
   "metadata": {},
   "source": [
    "#### Look up users who have retweeted a status"
   ]
  },
  {
   "cell_type": "code",
   "execution_count": 165,
   "id": "062f659c",
   "metadata": {},
   "outputs": [],
   "source": [
    "# statuses[0]['id']"
   ]
  },
  {
   "cell_type": "code",
   "execution_count": 153,
   "id": "b9207f7b",
   "metadata": {},
   "outputs": [
    {
     "data": {
      "text/plain": [
       "2"
      ]
     },
     "execution_count": 153,
     "metadata": {},
     "output_type": "execute_result"
    }
   ],
   "source": [
    "# statuses[0]['retweet_count']#['retweet_count']"
   ]
  },
  {
   "cell_type": "code",
   "execution_count": 160,
   "id": "b52a3402",
   "metadata": {},
   "outputs": [
    {
     "data": {
      "text/plain": [
       "'cazadorpy'"
      ]
     },
     "execution_count": 160,
     "metadata": {},
     "output_type": "execute_result"
    }
   ],
   "source": [
    "# statuses[0]['retweeted_status']['user']['screen_name']"
   ]
  },
  {
   "cell_type": "code",
   "execution_count": 162,
   "id": "7ddf54b8",
   "metadata": {},
   "outputs": [
    {
     "name": "stdout",
     "output_type": "stream",
     "text": [
      "['vijoumolce1988', 'driftourare1988', 'ShinobiSasha', 'livingmybestie', 'Rockawaytheday']\n"
     ]
    }
   ],
   "source": [
    "# Use the original tweet id to get its retweeted_status node \n",
    "\n",
    "_retweets = twitter_api.statuses.retweets(id=862359093398261760)\n",
    "print([r['user']['screen_name'] for r in _retweets])"
   ]
  },
  {
   "cell_type": "markdown",
   "id": "a2b7dcd7",
   "metadata": {},
   "source": [
    "### Count frequency of ...\n",
    "- words in tweets\n",
    "- screen_names\n",
    "- hashtags"
   ]
  },
  {
   "cell_type": "code",
   "execution_count": 167,
   "id": "f4156e19",
   "metadata": {},
   "outputs": [
    {
     "name": "stdout",
     "output_type": "stream",
     "text": [
      "[('the', 71), ('RT', 57), ('of', 44), ('to', 42), ('in', 39), ('and', 25), ('a', 24), ('at', 20), ('for', 17), ('@UChicago', 16)]\n",
      "\n",
      "[('UChicago', 18), ('keepark', 7), ('grosseaumd', 7), ('UChicagoMed', 6), ('RoxannaMGarcia', 6), ('ProfMSinha', 6), ('thenation', 6), ('SteveStuWill', 6), ('anita_simha', 4), ('katherinelsm', 3)]\n",
      "\n",
      "[('WFNS2022', 6), ('Chicago', 5), ('Healthcare', 2), ('CFP', 1), ('socialsciences', 1), ('humanities', 1), ('WomensHistoryMonth', 1), ('Mariupol', 1), ('ICC', 1), ('chinesehistory', 1)]\n",
      "\n"
     ]
    }
   ],
   "source": [
    "from collections import Counter\n",
    "\n",
    "for item in [words, screen_names, hashtags]:\n",
    "    c = Counter(item)\n",
    "    print(c.most_common()[:10]) # top 10\n",
    "    print()"
   ]
  },
  {
   "cell_type": "markdown",
   "id": "b2335720",
   "metadata": {},
   "source": [
    "Pretty visualization"
   ]
  },
  {
   "cell_type": "code",
   "execution_count": 168,
   "id": "b10e7b18",
   "metadata": {},
   "outputs": [
    {
     "name": "stdout",
     "output_type": "stream",
     "text": [
      "+-----------+-------+\n",
      "| Word      | Count |\n",
      "+-----------+-------+\n",
      "| the       |    71 |\n",
      "| RT        |    57 |\n",
      "| of        |    44 |\n",
      "| to        |    42 |\n",
      "| in        |    39 |\n",
      "| and       |    25 |\n",
      "| a         |    24 |\n",
      "| at        |    20 |\n",
      "| for       |    17 |\n",
      "| @UChicago |    16 |\n",
      "+-----------+-------+\n",
      "+----------------+-------+\n",
      "| Screen Name    | Count |\n",
      "+----------------+-------+\n",
      "| UChicago       |    18 |\n",
      "| keepark        |     7 |\n",
      "| grosseaumd     |     7 |\n",
      "| UChicagoMed    |     6 |\n",
      "| RoxannaMGarcia |     6 |\n",
      "| ProfMSinha     |     6 |\n",
      "| thenation      |     6 |\n",
      "| SteveStuWill   |     6 |\n",
      "| anita_simha    |     4 |\n",
      "| katherinelsm   |     3 |\n",
      "+----------------+-------+\n",
      "+--------------------+-------+\n",
      "| Hashtag            | Count |\n",
      "+--------------------+-------+\n",
      "| WFNS2022           |     6 |\n",
      "| Chicago            |     5 |\n",
      "| Healthcare         |     2 |\n",
      "| CFP                |     1 |\n",
      "| socialsciences     |     1 |\n",
      "| humanities         |     1 |\n",
      "| WomensHistoryMonth |     1 |\n",
      "| Mariupol           |     1 |\n",
      "| ICC                |     1 |\n",
      "| chinesehistory     |     1 |\n",
      "+--------------------+-------+\n"
     ]
    }
   ],
   "source": [
    "from prettytable import PrettyTable\n",
    "\n",
    "for label, data in (('Word', words), \n",
    "                    ('Screen Name', screen_names), \n",
    "                    ('Hashtag', hashtags)):\n",
    "    pt = PrettyTable(field_names=[label, 'Count']) \n",
    "    c = Counter(data)\n",
    "    [ pt.add_row(kv) for kv in c.most_common()[:10] ]\n",
    "    pt.align[label], pt.align['Count'] = 'l', 'r' # Set column alignment\n",
    "    print(pt)"
   ]
  },
  {
   "cell_type": "markdown",
   "id": "49f0cf2f",
   "metadata": {},
   "source": [
    "#### Histogram plots of words, screen names, and hashtags frequencies"
   ]
  },
  {
   "cell_type": "code",
   "execution_count": 170,
   "id": "669befb1",
   "metadata": {},
   "outputs": [
    {
     "data": {
      "image/png": "[encoded data removed]",
      "text/plain": [
       "<Figure size 432x288 with 1 Axes>"
      ]
     },
     "metadata": {
      "needs_background": "light"
     },
     "output_type": "display_data"
    },
    {
     "data": {
      "image/png": "[encoded data removed]",
      "text/plain": [
       "<Figure size 432x288 with 1 Axes>"
      ]
     },
     "metadata": {
      "needs_background": "light"
     },
     "output_type": "display_data"
    },
    {
     "data": {
      "image/png": "[encoded data removed]",
      "text/plain": [
       "<Figure size 432x288 with 1 Axes>"
      ]
     },
     "metadata": {
      "needs_background": "light"
     },
     "output_type": "display_data"
    },
    {
     "data": {
      "text/plain": [
       "<Figure size 432x288 with 0 Axes>"
      ]
     },
     "metadata": {},
     "output_type": "display_data"
    }
   ],
   "source": [
    "for label, data in (('Words', words), \n",
    "                    ('Screen Names', screen_names), \n",
    "                    ('Hashtags', hashtags)):\n",
    "\n",
    "    # Build a frequency map for each set of data\n",
    "    # and plot the values\n",
    "    c = Counter(data)\n",
    "    plt.hist(list(c.values()))\n",
    "    \n",
    "    # Add a title and y-label ...\n",
    "    plt.title(label)\n",
    "    plt.ylabel(\"Number of items in bin\")\n",
    "    plt.xlabel(\"Bins (number of times an item appeared)\")\n",
    "    \n",
    "    # ... and display as a new figure\n",
    "    plt.figure()"
   ]
  },
  {
   "cell_type": "markdown",
   "id": "850ed0b6",
   "metadata": {},
   "source": [
    "### Word frequency analysis"
   ]
  },
  {
   "cell_type": "code",
   "execution_count": 202,
   "id": "5abf6a4e",
   "metadata": {},
   "outputs": [],
   "source": [
    "# word_counts"
   ]
  },
  {
   "cell_type": "code",
   "execution_count": 206,
   "id": "dbcae9b2",
   "metadata": {},
   "outputs": [
    {
     "data": {
      "text/plain": [
       "Text(0.5, 0, 'Word Rank (how many times a word appears)')"
      ]
     },
     "execution_count": 206,
     "metadata": {},
     "output_type": "execute_result"
    },
    {
     "data": {
      "image/png": "[encoded data removed]",
      "text/plain": [
       "<Figure size 432x288 with 1 Axes>"
      ]
     },
     "metadata": {
      "needs_background": "light"
     },
     "output_type": "display_data"
    }
   ],
   "source": [
    "import matplotlib.pyplot as plt\n",
    "%matplotlib inline\n",
    "\n",
    "word_counts = sorted(Counter(words).values(), reverse=True)\n",
    "\n",
    "plt.loglog(word_counts) # log-log plot\n",
    "plt.ylabel(\"Freq (how many such words)\", fontsize=15)\n",
    "plt.xlabel(\"Word Rank (how many times a word appears)\", fontsize=15)"
   ]
  },
  {
   "cell_type": "markdown",
   "id": "19c993d7",
   "metadata": {},
   "source": [
    "**Zipf's Law** (proposed by George Kingsley Zipf, an American Linguist): \n",
    "- models the frequency distribution of words in languages\n",
    "- there are a large number of rare words\n",
    "- there are a small number of frequent words\n",
    "- Alternatively: the frequency of a word is inversely proportional to its rank\n",
    "\n",
    "Let $f_i$ be the frequency of the word at rank $i$:\n",
    "\n",
    "$$ f_i \\propto \\frac{1}{i} $$\n",
    "equivalently\n",
    "\n",
    "$ f_i = k$ $i^b $ for constant $k$ and $b=-1$\n",
    "<br><br><br>"
   ]
  },
  {
   "cell_type": "markdown",
   "id": "d5081f1b",
   "metadata": {},
   "source": [
    "### Lexical diversity\n",
    "$$ \\frac{number\\_of\\_unique\\_words}{total\\_word\\_counts} $$\n",
    "- A measurement of how many different lexical words are in a text.\n",
    "- An important indicator of how complex and difficult to read a text is.\n",
    "- Low lexical diversity: few unique words, high repetition, easy to read.\n",
    "- High lexical diversity: lots of unique words, low repetition, hard to read."
   ]
  },
  {
   "cell_type": "code",
   "execution_count": 169,
   "id": "21406f76",
   "metadata": {
    "scrolled": true
   },
   "outputs": [
    {
     "name": "stdout",
     "output_type": "stream",
     "text": [
      "0.47581552305961755\n",
      "0.5384615384615384\n",
      "0.7058823529411765\n",
      "17.78\n"
     ]
    }
   ],
   "source": [
    "# A function for computing lexical diversity\n",
    "def lexical_diversity(tokens):\n",
    "    return len(set(tokens))/len(tokens) \n",
    "\n",
    "# A function for computing the average number of words per tweet\n",
    "def average_words(statuses):\n",
    "    total_words = sum([len(s.split()) for s in statuses ]) \n",
    "    return total_words/len(statuses)\n",
    "\n",
    "print(lexical_diversity(words))\n",
    "print(lexical_diversity(screen_names))\n",
    "print(lexical_diversity(hashtags))\n",
    "print(average_words(status_texts))"
   ]
  },
  {
   "cell_type": "code",
   "execution_count": 32,
   "id": "e1d14144",
   "metadata": {},
   "outputs": [
    {
     "name": "stdout",
     "output_type": "stream",
     "text": [
      "got 199 tweets for user ChiCritMass\n"
     ]
    }
   ],
   "source": [
    "# Get this person's timeline\n",
    "timeline = [tweet for tweet in twitter.request('statuses/user_timeline',\n",
    "                                              {'screen_name': screen_name,\n",
    "                                               'count': 200})]\n",
    "print('got %d tweets for user %s' % (len(timeline), screen_name))\n"
   ]
  },
  {
   "cell_type": "code",
   "execution_count": 33,
   "id": "e0d8ecd9",
   "metadata": {
    "collapsed": true
   },
   "outputs": [
    {
     "name": "stdout",
     "output_type": "stream",
     "text": [
      "Ok #bikechi #chicago let her know https://t.co/O5bm4gKk3z\n",
      "@E2TheBam @FartSandwich Agree 😂\n",
      "RT @expatua: If Europe stops Russian gas, Europe loses 5% of its economy but Russia loses 40% of its economy.\n",
      "@FartSandwich @E2TheBam Agree\n",
      "What! Chicago is like. hold my beer &amp; ride this. Both airports. @cta #chicago #publictransport… https://t.co/LAaJz8QQ4c\n",
      "Enrico Fermi got my vote https://t.co/GgSiIxRZLV\n",
      "RT @greenergroundpt: Fresh cut grass smells just like juiced wheatgrass. I find the scent to be empowering, mildly spicy, and pleasant. Doe…\n",
      "Less bicyclists &amp; more cars. Yeah that will workout great 😂😂 (read the sign in store window) https://t.co/1tOh6CJSWt\n",
      "Great idea 👍🏻 #chicago https://t.co/bd2geisQU0\n",
      "RT @EricAllixRogers: #bancars\n",
      "Car driving wanker 😂 https://t.co/ek5Gy09p8l\n",
      "RT @krislucius: I'm de-accessioning a bunch of books and all of the architecture-related titles went very quickly at work, save for this on…\n",
      "RT @slucy: Imagine this on Michigan Avenue: wide sidewalks, 15-foot bike path (wider than the Lakefront Train), tram/bus lanes, and still r…\n",
      "RT @IsaaVillafuerte: Selling a PIT ticket for the Royce Chicago show, if anyone is interested.\n",
      "Woohoo 🎉 #chicago https://t.co/y8fXGDbUie\n",
      "Hey #bikechi spread the word. I know we got some bike riding reporters out there. https://t.co/0PG8sIsqhG\n",
      "RT @DMFDubs: Eliminating the the most tranquil- and fully accessible- parcel of Chicago shoreline to build a single golf course hole is tru…\n",
      "RT @VoyagersChicago: We are so excited to share that Chicago Voyagers has officially surpassed 5,000 youth served! This is a huge milestone…\n",
      "RT @pelotonmagazine: .@MatteoJorg takes us through his journey to becoming a professional on the latest episode of @bobbyandjens. Listen no…\n",
      "RT @JulieDiCaro: Jumping on @WORTradio to chat the Women's Final Four, the USWNT's deal with US Soccer, WNBA players in Russia, Title IX an…\n",
      "@localsadghoul Woohoo 🎉\n",
      "Chicago Chicago Chicago Chicago Chicago oops forgot we are rescinding our gas tax &amp; can’t afford it. Doing our best… https://t.co/3DNvFkkn5D\n",
      "Classic 🙌 what a dumbass. #bikechi #carsSuck https://t.co/xJaSiB5MIw\n",
      "RT @HeatherCherone: Chicago's COVID-19 test positivity is 1.2% per @ChiPublicHealth. 7 days ago, it was 0.9%\n",
      "\n",
      "On average, per day, during t…\n",
      "@probablymolly Congrats. It’s always great employer’s see the potential of a person. Also, you probably did a kickass interview 🙌\n",
      "Hey @DivvyBikes this would be so unbelievable awesome in Chicago!!!!!! #bikechi #cargobikes #chicago https://t.co/opxaYSrmhp\n",
      "For sure. 😍 https://t.co/UpfWndh19y\n",
      "RT @domwhiting: Some Epic shots from the Last Ride in Bristol! https://t.co/LopqgsWZad\n",
      "@Petersen11H It’s so awesome there. Will be a shame if it becomes a golf course.\n",
      "RT @KidicalMassLHE: Thank you @PhaLahore and @commissionerlhr for your support! We need proper and safe cycling lanes in #lahore so that ch…\n",
      "True dat 🙌🙌🙌 https://t.co/LjmY26NOgv\n",
      "RT @cta: [Minor Delays] Dempster-Skokie-bound Yellow Line trains are running w/res delays following earlier train congestion at Howard. Ser…\n",
      "Wow! That’s a lot of @LEGO_Group #bikechi https://t.co/JhjNvaTF6G\n",
      "RT @natalia_barbour: On just two wheels, you can carry two people, two storage bags, one backpack— all moving comfortably through town duri…\n",
      "RT @bikeitalia_it: Scegliere la sella in base al tipo di viaggio\n",
      "\n",
      "https://t.co/PLGkmKlO2e\n",
      "\n",
      "@bikeitalia_it | #cicloturismo https://t.co/ZYXr…\n",
      "Luv it 😍🙌 https://t.co/Y2NfIoy4Jc\n",
      "Woohoo 🎉 https://t.co/HEbJ5dQLnj\n",
      "RT @ChicagoBicycle: The latest The Bicycle Daily! https://t.co/b1iBzFNRO5 Thanks to @sfchronicle @Lucas_Wyrsch #cycling #tesla\n",
      "Heart-stopping moment cyclist escapes crash by seconds at intersection https://t.co/eK66TnhCD4 via @MailOnline Damn that’s scary 😦 #bikechi\n",
      "@AubreyJane601 Pretty sure cute gas attendant is trending now. 🙌\n",
      "The slap over taking some really great accomplishments last night. Much luv for @questlove &amp; getting a shoutout fro… https://t.co/0MlZNIEeAD\n",
      "Yes, it is that simple. 😍 https://t.co/TyuCX2r9SC\n",
      "RT @Jegolson: It was cold today, but more importantly it was sunny. We had no choice but to get out and train for RAGBRAI 15 miles R/T to p…\n",
      "RT @chiyclist: Watching this truck drive down the lakefront walk path, honking at people, has me thinking we should turn these paths into p…\n",
      "RT @rainiermarquez: #pederestians #bikechi #chibike #betterstreets\n",
      "3300 block of S. Kedzie on March 27, 2022 @ approx. 10:35 p.m. – 10th Di…\n",
      "@JGrantGlover @CYimby Got my vote 🙌🙌🙌🙌🙌 #Chicago 😍\n",
      "@monicaeng @Virginia_Thomas Creeping 👀 #chicago #itsNOTover\n",
      "@hell0babs It was very deceivingly brutal. 🥶🤮\n",
      "WTF the addiction is real. Sell the car. Get a life 🙌 https://t.co/rfOVMc5fkE\n",
      "RT @clearlyclaudia: i wish i was coughing rn\n",
      "@MichelleStenzel Yeah it was pretty rough on my #bikechi commute. Had to bring out my heavy duty winter gear. 😩🥶 #fakespring #chicago\n",
      "About time 😍🙌 https://t.co/hsY3Dxo1c7\n",
      "Woohoo 🎉 Great job. https://t.co/e485WoalQF\n",
      "@NWChiFiets Yep &amp; while we’re at it we will repeal our gas tax. 🤔\n",
      "RT @SOS_Sanctuary: @ChiCritMass We agree!! Please email the superintendent voicing your support for the preservation of the Sanctuary. We c…\n",
      "This is so messed up. Plz #chicago #bikechi support them. #SouthSideParks https://t.co/OuEm4PQHBF\n",
      "The @WorldBollard drug is addictive 😍 #bikechi https://t.co/Qz36DDcoue\n",
      "That is true &amp; I think that the planters were probably not that expensive &amp; you get to enjoy plants. #bikechi https://t.co/jFcxHjmdUS\n",
      "RT @CoalfireChicago: 10% of sales today will be donated to victims of the war in Ukraine. Either joint https://t.co/dZWEp2aHHF\n",
      "RT @Nettleshippy: The revolution starts here https://t.co/TPWkFWmY6N\n",
      "@AnjulieRao Paging @yasmeenchirps ?\n",
      "Great job. Drum Bass Bikes = Love gotta bring ya to Chicago. @domwhiting keep riding #bikechi https://t.co/RNchOwgBnx\n",
      "RT @adamtranter: Sometimes people will need to use a 5,000kg van. Sometimes all they’ll need is a cargo bike.\n",
      "\n",
      "It’s about using the best to…\n",
      "Sweet ambassador 🙌 https://t.co/5ZzeRfNyPB\n",
      "That is so badass!! 😍🙌😍🙌😍🙌😍🙌 #bikchi #cargobike https://t.co/MCO0IssPND\n",
      "@66Tallboy @cta You definitely need it for that on the @cta\n",
      "RT @wevegotwheels: Build infrastructure so safe 7 year olds can learn how to ride no handed on the way home from their cycling club. 😍 http…\n",
      "Powerful statement &amp; very true. #bikechi https://t.co/Ng3J8HgR9D\n",
      "😍😍😍😍😍😍😍 #tavernStyle #chicago https://t.co/2iV7RzovBQ\n",
      "Good times. Thanks for riding. 🙌 #chicago https://t.co/mbWeBq1nGV\n",
      "@NWChiFiets I think your right\n",
      "RT @ILSoybean: Last call! We’re excited to soon announce the first class of Illinois 20 Under 40 Farmers, but we don’t want to miss any wor…\n",
      "@swimming_alone It’s a bit chilly 🥶 out. Dress warm 👍🏻 #bikechi\n",
      "@ABeanTweeting @beckyabean Show off 😂\n",
      "RT @BikeWestern: Lori wants to save drivers less than $3 a month in gas because we are a car city \n",
      "\n",
      "but once again who does this hurt? brid…\n",
      "RT @WillCoForests: Look at all the green springing up around this coyote! (Photo courtesy of Joe Viola) #NaturePhotography https://t.co/tZi…\n",
      "RT @bike_berlin: Hattet ihr schon mal sechs auf einem Fahrrad? https://t.co/fGljl6JJoC\n",
      "Seriously does Lori even know how to ride a bike?🤔 #bikechi #chicago #rideYourBike https://t.co/w86kjbyXmX\n",
      "So so true. These are real people. Not some viral entertainment. 😞 https://t.co/qcw5B6JXED\n",
      "Now, that is sexy 😍 #bikechi https://t.co/if1bmFLHyn\n",
      "Nice. The future is now. #bikechi https://t.co/Djwt67EDwf\n",
      "RT @WorkingBikes: Finally removing the tag from the truck. Carburetor cleaner for the win! #bikechi https://t.co/UloSjwzaqB\n",
      "RT @chicagobikesox: Happy Friday! #bikechi https://t.co/bzk3KdypOT\n",
      "Woohoo 🎉 thanks to everyone who showed up tonight. When the going gets tough. The tough go biking 🚴🏾‍♀️ 😍 https://t.co/gIQeQ7150l\n",
      "Sweeeeeeeet!!! Dallas representing! Luv it! Think it might be a tad bit bigger than our mass tonight. 🧐 #bikechi… https://t.co/SePutauVlU\n",
      "@ABeanTweeting @HeerJeet Chicago hustles harder. 🙌\n",
      "@ABeanTweeting @HeerJeet Chicago probably has a higher GDP the 97% of the gray non sanctioning countries(individually)\n",
      "@wadechicago @CodifyBaseball Was a proud franchise once. 😞\n",
      "@bigtittyem0girl Awe, hell yeah! Luv some @pizzapuffs 😍 #chicago\n",
      "The wind BLOWS 😩 #bikechi #chicago https://t.co/Iq46Ams5Jv\n",
      "We ride tonight 6ish Daley plaza. #bikchi #chicago https://t.co/td4EE4MAoi\n",
      "@mollyfleck @postingtwink @streetsblogchi @chicagosmayor @activetrans @chi_streets @Metroplanners @CNT_tweets… https://t.co/uda0uLtX20\n",
      "RT @ChicagoBACP: Attention food &amp; liquor establishments: Apply for an Expanded Outdoor Dining to temporarily expand operations into the pub…\n",
      "For sure. All the car owners are broke cause of the money they are paying in gas. While the public transportation r… https://t.co/INoqWFrumr\n",
      "She’s pathetic! 🤮🤮🤮🤮 #bikechi https://t.co/eKVJHsvRjy\n",
      "RT @normcharlatan: Not sure any dude has rocked harder https://t.co/SyWdnE3Vry\n",
      "Yeah!! 🙌 #bikechi https://t.co/O7uZLcru4q\n",
      "That’s Advertising!!!!! Luv it! https://t.co/oZdq5cHsap\n",
      "RT @chicagobars: Good morning Chicago. Rise and shine! Here comes the world! https://t.co/zZC32cfOWV\n",
      "@urbaniconoclasm For real. It’s like whoa!!\n",
      "RT @MelbaLara: WBEZ is accepting applications for our Summer 2022 paid internships. Our program has 4 full-time openings in audio news, dig…\n",
      "RT @JBPritzker: I've always supported the right for workers to organize and bargain collectively.\n",
      "\n",
      "Until WTTW-Channel 11 can come to an agr…\n",
      "Woohoo 🎉 #chicago https://t.co/laTARgWQy2\n",
      "@bikelaneuprise Folks these are super high quality &amp; really comfortable to wear. 🙌 #bikchi #chicago\n",
      "RT @jonburkeUK: \"Not TV or illegal drugs but the automobile has been the chief destroyer of...communities.\" ― Jane Jacobs https://t.co/vBRC…\n",
      "@pachucasunrise_ @kimbewwwy You are a brave person. That part of the bus always scares me.😬\n",
      "Yeah Yeah Yeah https://t.co/qVGeEjkmCf\n",
      "RT @30daysofbiking: We’re ready! https://t.co/ZadCDv3JOj\n",
      "Worth a shot https://t.co/NPjarQQKH0\n",
      "@WestLoopTom Where I come from it’s called Thinning the herd! 👍🏻\n",
      "@LaLaLauren Buy that man beer(s)\n",
      "@swimming_alone Sweet dreams. Congrats\n",
      "Amen brother 🙌 #chicago https://t.co/sHb3DdGlDC\n",
      "Bosses- this working from home has to stop. We must bring you back to office. Really smart Genius 🤔 https://t.co/lJeiHueBoA\n",
      "Of all days 😩 #freeGASsucks #bikechi #rideYOURbike #chicago https://t.co/92N5Pkg3bB\n",
      "RT @vabike: E-bikes are GREAT for trail maintenance. I started in bike advocacy with trail work. We towed chainsaws, weed-whackers, pulaski…\n",
      "There are a million reasons not to drive in Chicago today. Ride your bike take @cta #freeGASsucks #bikechi #chicago https://t.co/uy8xwftfW7\n",
      "A big shoutout to Ethan at  @KwikTrip store #296 Pleasant Prairie. Keep up the great service. 🙌🙌 #come2illinois @newglarusbrew 🍻\n",
      "RT @criticalmassSG: Diesen Freitag Critical Mass um 18:30 auf dem Gallusplatz. Freut euch auf einen schönen, warmen Frühlingsabend! ☀️\n",
      "\n",
      "PS:…\n",
      "@swimming_alone So so true 🙌\n",
      "@modernistwitch It changes your view about work &amp; people. It’s easy to tell the difference between people.\n",
      "They are a great place 🙌 #bikechi #chicago https://t.co/aLYxCmUj5d\n",
      "Well of course it. Don’t you see the paint? 🤔 https://t.co/jzRxsUIMwF\n",
      "Not Not good https://t.co/24YP6MdBgd\n",
      "@aka60643 A furry bit of sunshine\n",
      "Cars kill cities. 😩 https://t.co/LmCsk1kBf5\n",
      "RBT so fast so simple so cheap. Chicago says- Not for us. 🤬🤬 https://t.co/DJN4wJ4IgC\n",
      "RT @patrickmorgan: “My #ebike has literally changed my life. I could never do anything myself. I used to catch taxis or rely on friends. No…\n",
      "RT @_dmoser: This lane fights climate change &amp;  reduces oil demand👇👇 https://t.co/sTftqoSM2m\n",
      "@hell0babs Awe. What a cutie 🥰\n",
      "Dang it’s really nice out #Chicago #bikechi Plus got Fergie on repeat. 😍😍😍 https://t.co/f6WMl91Nbu\n",
      "@kschust1 @arcadefriar @TrueAnonPod The bro’s be in heaven 😂\n",
      "@arcadefriar @TrueAnonPod Where is that\n",
      "Great work 🙌 #bikechi #chicago@ https://t.co/Z0PHbe9QSm\n",
      "RT @masacriticamlg: Este viernes #MasaCrítica!!\n",
      "\n",
      "Recuérdalo: Cuanto menos dependes de combustibles fósiles más poder le arrebatas a las gue…\n",
      "@NWChiFiets Or the rolling towards you slow down but no stop. Scare!\n",
      "@EricAllixRogers Ya think 🤔\n",
      "RT @DIsaac8: It's really cool that gas stations have all put up these big ads for bicycles. https://t.co/jheSlKIbEt\n",
      "@jenawithonen Yep\n",
      "@swimming_alone @BAFANGElectric Great job 👏\n",
      "RT @swimming_alone: Getting ready to head to @WorkingBikes for new handlebars and hopefully a gear shifter. #ebikeconversionkit @BAFANGElec…\n",
      "Go @ChicagoDOT @StreetsandSan 😍😍🙌🙌 #chicago https://t.co/kDEIp8qw9r\n",
      "@forensicgarlic Shocker!! I wonder what has changed recently in Chicago for this to happen. Any guesses? 😩\n",
      "One of those days 😞 #bikechi https://t.co/CnPdwKJ0W1\n",
      "RT @ProvocCities: Now, just to be clear, if that was a raised crosswalk that would be flooded for cars and not pedestrians. Which like make…\n",
      "RT @Eric_Erins: Yes yes yes\n",
      "Luv it https://t.co/3CjAKjxBjQ\n",
      "@nzettelplanning The guy selling “Loud” was on the afternoon redline the other day. 🙌🙌\n",
      "@chiyclist Oh yeah. Fenders be a game changer 🙌\n",
      "@chrystal_ok Lucky you 👍🏻\n",
      "RT @KochGa: https://t.co/7C3tVBBjl6\n",
      "@webertown It’s amazing\n",
      "Yep!!!! Lots of people just want to ignore that fact. Regular &amp; electric cars will both still be stuck in traffic. 🤔 https://t.co/zkuwOTDLbV\n",
      "@yo_uterus Yummy yummy 😍😍\n",
      "The solution are already here. The political will in USA is not. So sad. 😞 #bikechi https://t.co/2ROIjW4pCC\n",
      "RT @NWChiFiets: Good morning can I get a list of the books Ted Cruz had yesterday? I need to go book shopping for my grandson.\n",
      "Sweeeeeeeett!!!!!! You can wear it on the ride this Friday. 6pm-ish Daley Plaza. Weather looking good for Friday 50… https://t.co/OX9uJy0cUm\n",
      "Alright #bikechi &amp; Chicago. You know you love your dog. So post puppy photos. https://t.co/unjcwRXrTE\n",
      "64% renewable pretty impressive 🙌 https://t.co/CZfySPZnJf\n",
      "RT @ChicagoBicycle: The latest The Bicycle Daily! https://t.co/74U0NB30HT Thanks to @bikerumor #cycling #tesla\n",
      "Whoa Chicago &amp; #bikechi we got some good ones here. Which one you like. 🤔 https://t.co/QqHU324aNY\n",
      "@cactodeasfalto @WorkingBikes @BikeMayorCDMX Chicago #bikechi a great cause if you can help would be awesome.\n",
      "@KochGa @TG22110 *made not maybe f-ing auto correct\n",
      "@mpusto @AmericanFietser @cleverhoods Cold &amp; rainy is the worst. Will take snow over cold rain 🌧\n",
      "@mattstegman I am in Little Village. Really nice right now. Rain stopped &amp; not that cold &amp; it’s taco Tuesday\n",
      "@KochGa @TG22110 Maybe my Tuesday 😂😂😂😂😂😂😂😂😂😂😂😂\n",
      "@jenawithonen Always conflicted about these open designs competition. I think it lets a lot of non designers &amp; othe… https://t.co/BTXHkY1IfQ\n",
      "@JCB_Journo I still can’t believe our government &amp; other sports celebrities are raising hell about her kidnapping. WTF!!!!! 🤬\n",
      "RT @bikelaneuprise: But where else will Ferrari dealerships park their display cars?!\n",
      "\n",
      "Report Rari’s in the bike lane with our mobile app h…\n",
      "Wow! Really cool. #bikechi spread the word. #chicago https://t.co/5df3yKxgbn\n",
      "DOA’s https://t.co/gCVafNi1u0\n",
      "RT @DaveyOil: If a ten foot ladder is carried by bike and no one gets a photo, did I ever get it home? https://t.co/YYbNm1ro5o\n",
      "@rainiermarquez @DivvyBikes @cta For sure. People want to buy a cargo bike. Which are great. But getting a wagon fo… https://t.co/srpHPBXfgC\n",
      "Wow! Didn’t see that happening (Said no one) 😬 https://t.co/XVyFRsGysP\n",
      "Damn straight folks. Always talk to your coworkers about how much you make. https://t.co/XJngeWPC66\n",
      "RT @AndrewDLewis: If ur kids can’t afford to live in ur neighborhood, ur not building enough housing.\n",
      "What could be America What could be Chicago #bikechi https://t.co/ESDIhPZjFg\n",
      "Awe hell yeah. Luv it!! #bikechi #rideyourbike https://t.co/cYt2vJWdNJ\n",
      "Best drug in the world 😍 https://t.co/tRC4u2agE4\n",
      "@chi_geek @Eric_Erins 🙌😂👍🏻\n",
      "@chiyclist Yeah bonehead pedestrians suck 🤬\n",
      "@chiyclist A BIG opps\n",
      "Ok #bikechi you or do you know somebody??? #chicago https://t.co/4rFjBBnhk3\n",
      "RT @Pflax1: Putting this on my mood board for the Monday bike commute. https://t.co/mgknfE2xCW\n",
      "Luv it!!! 😍 https://t.co/0D3VCOywZy\n",
      "WTF?? https://t.co/IPhKxzXBis\n",
      "RT @slucy: Looks like they built too much car parking and not enough bike parking https://t.co/JS68ZgghHv\n",
      "RT @edwardlamb: Just my wife cruising the country lanes carrying two kids and a dog on a bicycle 💪. This is the future (if you want it) htt…\n",
      "Get a bike #Chicago use a @DivvyBikes use the @cta walk to the store. #bikechi #bancars #gasSUCKS https://t.co/g5CGBxwIyn\n",
      "@Virginia_Thomas Probably understatement of the year.\n",
      "Nailed it! 🙌 https://t.co/Z5yM9ELx1w\n",
      "RT @Openly: 🕺 Dmytro was getting ready for a rave.\n",
      "\n",
      "✈️ Borys was just back from holiday.\n",
      "\n",
      "🇺🇦 Then Russian tanks rolled into Ukraine and the…\n",
      "@swimming_alone @BAFANGElectric Woohoo 🎉\n",
      "RT @WeByBike: Twitter help me I can’t remember what’s the name for the street playgrounds in the Netherlands. Little spaces where they took…\n",
      "Woohoo 🎉 https://t.co/M0AJbcxQhR\n",
      "Beautiful day in Chicago to go biking with your kids. Luv it!!!! #bikechi #rideyourbike #Chicago #Illinois https://t.co/gvGI994CTt\n",
      "RT @rebeccajtiffany: I do strongly support masking but I think it's a critical time for a lot of advocacy to pivot hard to include ventilat…\n",
      "RT @bryanforall: Um...\n",
      "Excuse me, but if you can't fit in the space, perhaps consider parking somewhere else.\n",
      "#YouveCrossedTheLine\n",
      "@TheWarO…\n",
      "RT @itskylelucas: Bike lane on an overbuilt road in one of the densest downtowns in America is nothing more than a parking lane. https://t.…\n"
     ]
    }
   ],
   "source": [
    "# Print the text.\n",
    "print('\\n'.join(t['text'] for t in timeline))"
   ]
  },
  {
   "cell_type": "code",
   "execution_count": 34,
   "id": "a380af31",
   "metadata": {},
   "outputs": [
    {
     "name": "stdout",
     "output_type": "stream",
     "text": [
      "Counter({1: 2, 2: 1})\n",
      "Counter({1: 4, 2: 2})\n"
     ]
    }
   ],
   "source": [
    "# Python tip: Counter objects.\n",
    "from collections import Counter\n",
    "# This is just a fancy dict mapping from object->int, starting at 0.\n",
    "c = Counter()\n",
    "c.update([1,2,1])\n",
    "print(c)\n",
    "c.update([1,2,1])\n",
    "print(c)"
   ]
  },
  {
   "cell_type": "code",
   "execution_count": 35,
   "id": "07724a34",
   "metadata": {},
   "outputs": [
    {
     "name": "stdout",
     "output_type": "stream",
     "text": [
      "found 1338 unique terms in 199 tweets\n"
     ]
    },
    {
     "data": {
      "text/plain": [
       "[('the', 79),\n",
       " ('rt', 62),\n",
       " ('a', 49),\n",
       " ('to', 43),\n",
       " ('#bikechi', 38),\n",
       " ('for', 28),\n",
       " ('#chicago', 27),\n",
       " ('of', 27),\n",
       " ('in', 25),\n",
       " ('is', 22)]"
      ]
     },
     "execution_count": 35,
     "metadata": {},
     "output_type": "execute_result"
    }
   ],
   "source": [
    "# Count words\n",
    "counts = Counter()\n",
    "for tweet in timeline:\n",
    "    counts.update(tweet['text'].lower().split())  # to lower case; split on whitespace.\n",
    "print('found %d unique terms in %d tweets' % (len(counts), len(timeline)))\n",
    "counts.most_common(10)"
   ]
  },
  {
   "cell_type": "code",
   "execution_count": 36,
   "id": "f8f71131",
   "metadata": {},
   "outputs": [
    {
     "data": {
      "text/plain": [
       "[5, 4, -1, -10]"
      ]
     },
     "execution_count": 36,
     "metadata": {},
     "output_type": "execute_result"
    }
   ],
   "source": [
    "# Python tip: sorting using lambda functions\n",
    "sorted([5, 4, -10, -1], key=lambda x: -x)"
   ]
  },
  {
   "cell_type": "code",
   "execution_count": 37,
   "id": "058106d5",
   "metadata": {},
   "outputs": [
    {
     "data": {
      "text/plain": [
       "[('mary', 20), ('jim', 15), ('joe', 10), ('joe', 5)]"
      ]
     },
     "execution_count": 37,
     "metadata": {},
     "output_type": "execute_result"
    }
   ],
   "source": [
    "sorted([('joe', 10), ('mary', 20), ('jim', 15), ('joe', 5)],\n",
    "         key=lambda x: -x[1])"
   ]
  },
  {
   "cell_type": "code",
   "execution_count": 38,
   "id": "b1611066",
   "metadata": {
    "collapsed": true
   },
   "outputs": [
    {
     "name": "stdout",
     "output_type": "stream",
     "text": [
      "the=79\n",
      "rt=62\n",
      "a=49\n",
      "to=43\n",
      "#bikechi=38\n",
      "for=28\n",
      "#chicago=27\n",
      "of=27\n",
      "in=25\n",
      "is=22\n",
      "&amp;=20\n",
      "i=20\n",
      "you=20\n",
      "that=19\n",
      "chicago=18\n",
      "on=16\n",
      "so=16\n",
      "🙌=16\n",
      "it=16\n",
      "and=15\n",
      "we=15\n",
      "are=15\n",
      "this=14\n",
      "be=13\n",
      "great=12\n",
      "not=12\n",
      "but=11\n",
      "was=11\n",
      "my=10\n",
      "bike=10\n",
      "it’s=10\n",
      "😍=10\n",
      "will=9\n",
      "has=9\n",
      "luv=9\n",
      "if=8\n",
      "woohoo=8\n",
      "🎉=8\n",
      "our=8\n",
      "your=8\n",
      "ride=7\n",
      "all=7\n",
      "at=7\n",
      "really=7\n",
      "@cta=6\n",
      "just=6\n",
      "yeah=6\n",
      "some=6\n",
      "from=6\n",
      "can=6\n"
     ]
    }
   ],
   "source": [
    "# Sort by value, descending.\n",
    "sorted_counts = sorted(counts.items(), key=lambda x: x[1], reverse=True)\n",
    "# See more about Python's lambda expressions:\n",
    "# https://docs.python.org/2/tutorial/controlflow.html#lambda-expressions\n",
    "\n",
    "# print top 50\n",
    "print('\\n'.join('%s=%d' % (item[0], item[1]) \n",
    "                 for item in sorted_counts[:50]))"
   ]
  },
  {
   "cell_type": "code",
   "execution_count": 42,
   "id": "02ebbcec",
   "metadata": {},
   "outputs": [
    {
     "data": {
      "image/png": "[encoded data removed]",
      "text/plain": [
       "<Figure size 432x288 with 1 Axes>"
      ]
     },
     "metadata": {
      "needs_background": "light"
     },
     "output_type": "display_data"
    }
   ],
   "source": [
    "# Plot these counts using matplotlib\n",
    "plt.figure(figsize=(6,4))\n",
    "plt.hist(list(counts.values()), bins=10) # rwidth=0.9\n",
    "plt.xlabel('count', size=20)\n",
    "plt.ylabel('frequency', size=20)\n",
    "plt.ylim((0,100))\n",
    "plt.show()"
   ]
  },
  {
   "cell_type": "code",
   "execution_count": 45,
   "id": "bcea46b7",
   "metadata": {},
   "outputs": [
    {
     "data": {
      "image/png": "[encoded data removed]",
      "text/plain": [
       "<Figure size 432x288 with 1 Axes>"
      ]
     },
     "metadata": {
      "needs_background": "light"
     },
     "output_type": "display_data"
    }
   ],
   "source": [
    "# resizing things in matplotlib\n",
    "# Plot these counts using matplotlib\n",
    "plt.rc('font', size=20)                  # controls default text sizes\n",
    "plt.rc('axes', titlesize=20)             # fontsize of the axes title\n",
    "plt.rc('axes', labelsize=20)             # fontsize of the x and y labels\n",
    "plt.rc('xtick', labelsize=16)            # fontsize of the tick labels\n",
    "plt.rc('ytick', labelsize=16)            # fontsize of the tick labels\n",
    "plt.figure(figsize=(6,4))\n",
    "plt.hist(list(counts.values()), bins=100)\n",
    "plt.xlabel('word_count')\n",
    "plt.ylabel('frequency')\n",
    "#plt.ylim((0,100))\n",
    "plt.show()"
   ]
  },
  {
   "cell_type": "code",
   "execution_count": 49,
   "id": "bde0cc7a",
   "metadata": {},
   "outputs": [
    {
     "data": {
      "text/plain": [
       "Text(0, 0.5, 'word count')"
      ]
     },
     "execution_count": 49,
     "metadata": {},
     "output_type": "execute_result"
    },
    {
     "data": {
      "image/png": "[encoded data removed]",
      "text/plain": [
       "<Figure size 432x288 with 1 Axes>"
      ]
     },
     "metadata": {
      "needs_background": "light"
     },
     "output_type": "display_data"
    }
   ],
   "source": [
    "plt.plot(sorted(counts.values(), reverse=True))\n",
    "plt.xlabel('word rank')\n",
    "plt.ylabel('word count')"
   ]
  },
  {
   "cell_type": "markdown",
   "id": "bdcf37d9",
   "metadata": {},
   "source": [
    "**Zipf's Law**: there are many rare words; there are a small number of extremely frequent words.\n",
    "\n",
    "Alternatively:\n",
    "The frequency of a term is inversely proportional to its rank.\n",
    "\n",
    "Let $f_i$ be the frequency of the $i$th most common term\n",
    "\n",
    "$$ f_i \\propto \\frac{1}{i} $$\n",
    "equivalently\n",
    "\n",
    "$ f_i = k$ $i^b $ for constant $k$ and $b=-1$"
   ]
  },
  {
   "cell_type": "code",
   "execution_count": 50,
   "id": "9125bffa",
   "metadata": {},
   "outputs": [
    {
     "data": {
      "text/plain": [
       "[79, 62, 49, 43, 38, 28, 27, 27, 25, 22]"
      ]
     },
     "execution_count": 50,
     "metadata": {},
     "output_type": "execute_result"
    }
   ],
   "source": [
    "freqs = sorted(counts.values(), reverse=True)\n",
    "freqs[:10]"
   ]
  },
  {
   "cell_type": "code",
   "execution_count": 51,
   "id": "c9d843cd",
   "metadata": {},
   "outputs": [
    {
     "data": {
      "text/plain": [
       "[1, 2, 3, 4, 5, 6, 7, 8, 9, 10]"
      ]
     },
     "execution_count": 51,
     "metadata": {},
     "output_type": "execute_result"
    }
   ],
   "source": [
    "ranks = list(range(1, len(freqs)+1))\n",
    "ranks[:10]"
   ]
  },
  {
   "cell_type": "code",
   "execution_count": 52,
   "id": "4072fee3",
   "metadata": {
    "collapsed": true
   },
   "outputs": [
    {
     "name": "stdout",
     "output_type": "stream",
     "text": [
      "Help on function curve_fit in module scipy.optimize.minpack:\n",
      "\n",
      "curve_fit(f, xdata, ydata, p0=None, sigma=None, absolute_sigma=False, check_finite=True, bounds=(-inf, inf), method=None, jac=None, **kwargs)\n",
      "    Use non-linear least squares to fit a function, f, to data.\n",
      "    \n",
      "    Assumes ``ydata = f(xdata, *params) + eps``.\n",
      "    \n",
      "    Parameters\n",
      "    ----------\n",
      "    f : callable\n",
      "        The model function, f(x, ...). It must take the independent\n",
      "        variable as the first argument and the parameters to fit as\n",
      "        separate remaining arguments.\n",
      "    xdata : array_like or object\n",
      "        The independent variable where the data is measured.\n",
      "        Should usually be an M-length sequence or an (k,M)-shaped array for\n",
      "        functions with k predictors, but can actually be any object.\n",
      "    ydata : array_like\n",
      "        The dependent data, a length M array - nominally ``f(xdata, ...)``.\n",
      "    p0 : array_like, optional\n",
      "        Initial guess for the parameters (length N). If None, then the\n",
      "        initial values will all be 1 (if the number of parameters for the\n",
      "        function can be determined using introspection, otherwise a\n",
      "        ValueError is raised).\n",
      "    sigma : None or M-length sequence or MxM array, optional\n",
      "        Determines the uncertainty in `ydata`. If we define residuals as\n",
      "        ``r = ydata - f(xdata, *popt)``, then the interpretation of `sigma`\n",
      "        depends on its number of dimensions:\n",
      "    \n",
      "            - A 1-D `sigma` should contain values of standard deviations of\n",
      "              errors in `ydata`. In this case, the optimized function is\n",
      "              ``chisq = sum((r / sigma) ** 2)``.\n",
      "    \n",
      "            - A 2-D `sigma` should contain the covariance matrix of\n",
      "              errors in `ydata`. In this case, the optimized function is\n",
      "              ``chisq = r.T @ inv(sigma) @ r``.\n",
      "    \n",
      "              .. versionadded:: 0.19\n",
      "    \n",
      "        None (default) is equivalent of 1-D `sigma` filled with ones.\n",
      "    absolute_sigma : bool, optional\n",
      "        If True, `sigma` is used in an absolute sense and the estimated parameter\n",
      "        covariance `pcov` reflects these absolute values.\n",
      "    \n",
      "        If False (default), only the relative magnitudes of the `sigma` values matter.\n",
      "        The returned parameter covariance matrix `pcov` is based on scaling\n",
      "        `sigma` by a constant factor. This constant is set by demanding that the\n",
      "        reduced `chisq` for the optimal parameters `popt` when using the\n",
      "        *scaled* `sigma` equals unity. In other words, `sigma` is scaled to\n",
      "        match the sample variance of the residuals after the fit. Default is False.\n",
      "        Mathematically,\n",
      "        ``pcov(absolute_sigma=False) = pcov(absolute_sigma=True) * chisq(popt)/(M-N)``\n",
      "    check_finite : bool, optional\n",
      "        If True, check that the input arrays do not contain nans of infs,\n",
      "        and raise a ValueError if they do. Setting this parameter to\n",
      "        False may silently produce nonsensical results if the input arrays\n",
      "        do contain nans. Default is True.\n",
      "    bounds : 2-tuple of array_like, optional\n",
      "        Lower and upper bounds on parameters. Defaults to no bounds.\n",
      "        Each element of the tuple must be either an array with the length equal\n",
      "        to the number of parameters, or a scalar (in which case the bound is\n",
      "        taken to be the same for all parameters). Use ``np.inf`` with an\n",
      "        appropriate sign to disable bounds on all or some parameters.\n",
      "    \n",
      "        .. versionadded:: 0.17\n",
      "    method : {'lm', 'trf', 'dogbox'}, optional\n",
      "        Method to use for optimization. See `least_squares` for more details.\n",
      "        Default is 'lm' for unconstrained problems and 'trf' if `bounds` are\n",
      "        provided. The method 'lm' won't work when the number of observations\n",
      "        is less than the number of variables, use 'trf' or 'dogbox' in this\n",
      "        case.\n",
      "    \n",
      "        .. versionadded:: 0.17\n",
      "    jac : callable, string or None, optional\n",
      "        Function with signature ``jac(x, ...)`` which computes the Jacobian\n",
      "        matrix of the model function with respect to parameters as a dense\n",
      "        array_like structure. It will be scaled according to provided `sigma`.\n",
      "        If None (default), the Jacobian will be estimated numerically.\n",
      "        String keywords for 'trf' and 'dogbox' methods can be used to select\n",
      "        a finite difference scheme, see `least_squares`.\n",
      "    \n",
      "        .. versionadded:: 0.18\n",
      "    kwargs\n",
      "        Keyword arguments passed to `leastsq` for ``method='lm'`` or\n",
      "        `least_squares` otherwise.\n",
      "    \n",
      "    Returns\n",
      "    -------\n",
      "    popt : array\n",
      "        Optimal values for the parameters so that the sum of the squared\n",
      "        residuals of ``f(xdata, *popt) - ydata`` is minimized.\n",
      "    pcov : 2-D array\n",
      "        The estimated covariance of popt. The diagonals provide the variance\n",
      "        of the parameter estimate. To compute one standard deviation errors\n",
      "        on the parameters use ``perr = np.sqrt(np.diag(pcov))``.\n",
      "    \n",
      "        How the `sigma` parameter affects the estimated covariance\n",
      "        depends on `absolute_sigma` argument, as described above.\n",
      "    \n",
      "        If the Jacobian matrix at the solution doesn't have a full rank, then\n",
      "        'lm' method returns a matrix filled with ``np.inf``, on the other hand\n",
      "        'trf'  and 'dogbox' methods use Moore-Penrose pseudoinverse to compute\n",
      "        the covariance matrix.\n",
      "    \n",
      "    Raises\n",
      "    ------\n",
      "    ValueError\n",
      "        if either `ydata` or `xdata` contain NaNs, or if incompatible options\n",
      "        are used.\n",
      "    \n",
      "    RuntimeError\n",
      "        if the least-squares minimization fails.\n",
      "    \n",
      "    OptimizeWarning\n",
      "        if covariance of the parameters can not be estimated.\n",
      "    \n",
      "    See Also\n",
      "    --------\n",
      "    least_squares : Minimize the sum of squares of nonlinear functions.\n",
      "    scipy.stats.linregress : Calculate a linear least squares regression for\n",
      "                             two sets of measurements.\n",
      "    \n",
      "    Notes\n",
      "    -----\n",
      "    With ``method='lm'``, the algorithm uses the Levenberg-Marquardt algorithm\n",
      "    through `leastsq`. Note that this algorithm can only deal with\n",
      "    unconstrained problems.\n",
      "    \n",
      "    Box constraints can be handled by methods 'trf' and 'dogbox'. Refer to\n",
      "    the docstring of `least_squares` for more information.\n",
      "    \n",
      "    Examples\n",
      "    --------\n",
      "    >>> import matplotlib.pyplot as plt\n",
      "    >>> from scipy.optimize import curve_fit\n",
      "    \n",
      "    >>> def func(x, a, b, c):\n",
      "    ...     return a * np.exp(-b * x) + c\n",
      "    \n",
      "    Define the data to be fit with some noise:\n",
      "    \n",
      "    >>> xdata = np.linspace(0, 4, 50)\n",
      "    >>> y = func(xdata, 2.5, 1.3, 0.5)\n",
      "    >>> np.random.seed(1729)\n",
      "    >>> y_noise = 0.2 * np.random.normal(size=xdata.size)\n",
      "    >>> ydata = y + y_noise\n",
      "    >>> plt.plot(xdata, ydata, 'b-', label='data')\n",
      "    \n",
      "    Fit for the parameters a, b, c of the function `func`:\n",
      "    \n",
      "    >>> popt, pcov = curve_fit(func, xdata, ydata)\n",
      "    >>> popt\n",
      "    array([ 2.55423706,  1.35190947,  0.47450618])\n",
      "    >>> plt.plot(xdata, func(xdata, *popt), 'r-',\n",
      "    ...          label='fit: a=%5.3f, b=%5.3f, c=%5.3f' % tuple(popt))\n",
      "    \n",
      "    Constrain the optimization to the region of ``0 <= a <= 3``,\n",
      "    ``0 <= b <= 1`` and ``0 <= c <= 0.5``:\n",
      "    \n",
      "    >>> popt, pcov = curve_fit(func, xdata, ydata, bounds=(0, [3., 1., 0.5]))\n",
      "    >>> popt\n",
      "    array([ 2.43708906,  1.        ,  0.35015434])\n",
      "    >>> plt.plot(xdata, func(xdata, *popt), 'g--',\n",
      "    ...          label='fit: a=%5.3f, b=%5.3f, c=%5.3f' % tuple(popt))\n",
      "    \n",
      "    >>> plt.xlabel('x')\n",
      "    >>> plt.ylabel('y')\n",
      "    >>> plt.legend()\n",
      "    >>> plt.show()\n",
      "\n"
     ]
    }
   ],
   "source": [
    "# Minimize mean squared error to find best value of k\n",
    "from scipy.optimize import curve_fit\n",
    "help(curve_fit)"
   ]
  },
  {
   "cell_type": "code",
   "execution_count": 53,
   "id": "97f7a658",
   "metadata": {},
   "outputs": [
    {
     "name": "stdout",
     "output_type": "stream",
     "text": [
      "Zipf fit is f_i = 115.12*i^-1\n"
     ]
    }
   ],
   "source": [
    "# Define the Zipf function and fit the k parameter.\n",
    "def zipfs(i, k):\n",
    "    return k / i\n",
    "zipf_parms, covar = curve_fit(zipfs, ranks, freqs)\n",
    "print('Zipf fit is f_i = %.2f*i^-1' % zipf_parms[0])"
   ]
  },
  {
   "cell_type": "code",
   "execution_count": 54,
   "id": "0d047586",
   "metadata": {},
   "outputs": [
    {
     "data": {
      "text/plain": [
       "Text(0, 0.5, 'log(frequency)')"
      ]
     },
     "execution_count": 54,
     "metadata": {},
     "output_type": "execute_result"
    },
    {
     "data": {
      "image/png": "[encoded data removed]",
      "text/plain": [
       "<Figure size 432x288 with 1 Axes>"
      ]
     },
     "metadata": {
      "needs_background": "light"
     },
     "output_type": "display_data"
    }
   ],
   "source": [
    "# Try a log-log plot.\n",
    "# NumPy library will be used a lot for math.\n",
    "import numpy as np\n",
    "l_ranks = np.log10(ranks)\n",
    "l_freqs = np.log10(freqs)\n",
    "plt.figure()\n",
    "plt.plot(l_ranks, l_freqs, 'bo', label='data')\n",
    "plt.legend(loc='best')\n",
    "plt.xlabel('log(rank)')\n",
    "plt.ylabel('log(frequency)')"
   ]
  },
  {
   "cell_type": "code",
   "execution_count": 55,
   "id": "e3dfa077",
   "metadata": {},
   "outputs": [
    {
     "data": {
      "text/plain": [
       "<matplotlib.legend.Legend at 0x7fe915ba1820>"
      ]
     },
     "execution_count": 55,
     "metadata": {},
     "output_type": "execute_result"
    },
    {
     "data": {
      "image/png": "[encoded data removed]",
      "text/plain": [
       "<Figure size 432x288 with 1 Axes>"
      ]
     },
     "metadata": {
      "needs_background": "light"
     },
     "output_type": "display_data"
    }
   ],
   "source": [
    "plt.figure()\n",
    "plt.plot(l_ranks, l_freqs, 'bo', label='data')\n",
    "plt.xlabel('log(rank)')\n",
    "plt.ylabel('log(frequency)')\n",
    "plt.plot(l_ranks, np.log10(zipfs(ranks, *zipf_parms)), 'k--', label='zipf')  # k-- = black dashed line\n",
    "plt.legend(loc='best')"
   ]
  },
  {
   "cell_type": "markdown",
   "id": "cd06bea6",
   "metadata": {},
   "source": [
    "Zipf's law holds with varying degrees of accuracy depending on the dataset.\n",
    "\n",
    "Here, due in part to the small dataset, there are many more words that occur only once than expected by Zipf."
   ]
  },
  {
   "cell_type": "markdown",
   "id": "cf7f8222",
   "metadata": {},
   "source": [
    "### Summary: twitter data collection\n",
    "- Python package [twitter](https://github.com/python-twitter-tools/twitter)\n",
    "- authorize an app to access Twitter data\n",
    "- list of endpoints\n",
    "> retrieving trends <br>\n",
    "> get user timeline <br>\n",
    "> get followers <br>\n",
    "> search tweet data <br>\n",
    "> find the most popular retweets <br>\n",
    "> ...<br>\n",
    "- Zipf's law"
   ]
  },
  {
   "cell_type": "code",
   "execution_count": null,
   "id": "7039a5b7",
   "metadata": {},
   "outputs": [],
   "source": []
  },
  {
   "cell_type": "code",
   "execution_count": null,
   "id": "1edf2de9",
   "metadata": {},
   "outputs": [],
   "source": []
  }
 ],
 "metadata": {
  "kernelspec": {
   "display_name": "Python 3",
   "language": "python",
   "name": "python3"
  },
  "language_info": {
   "codemirror_mode": {
    "name": "ipython",
    "version": 3
   },
   "file_extension": ".py",
   "mimetype": "text/x-python",
   "name": "python",
   "nbconvert_exporter": "python",
   "pygments_lexer": "ipython3",
   "version": "3.8.8"
  }
 },
 "nbformat": 4,
 "nbformat_minor": 5
}
